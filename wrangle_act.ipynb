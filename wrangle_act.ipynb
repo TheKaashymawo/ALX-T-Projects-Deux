{
 "cells": [
  {
   "cell_type": "markdown",
   "metadata": {
    "extensions": {
     "jupyter_dashboards": {
      "version": 1,
      "views": {
       "grid_default": {
        "col": 0,
        "height": 4,
        "hidden": false,
        "row": 0,
        "width": 4
       },
       "report_default": {
        "hidden": false
       }
      }
     }
    }
   },
   "source": [
    "# Project: Wrangling and Analyze Data"
   ]
  },
  {
   "cell_type": "markdown",
   "metadata": {},
   "source": [
    "Import all necessary modules and libraries for the Data Gathering, Assessing, Cleaning, Saving and Analysing."
   ]
  },
  {
   "cell_type": "code",
   "execution_count": 1,
   "metadata": {},
   "outputs": [
    {
     "name": "stderr",
     "output_type": "stream",
     "text": [
      "C:\\anaconda\\envs\\kolaenv\\lib\\site-packages\\scipy\\__init__.py:146: UserWarning: A NumPy version >=1.16.5 and <1.23.0 is required for this version of SciPy (detected version 1.23.1\n",
      "  warnings.warn(f\"A NumPy version >={np_minversion} and <{np_maxversion}\"\n"
     ]
    }
   ],
   "source": [
    "# linear algebra\n",
    "import numpy as np\n",
    "\n",
    "# data processing\n",
    "import pandas as pd\n",
    "\n",
    "# data visualisation\n",
    "import matplotlib.pyplot as plt\n",
    "%matplotlib inline\n",
    "import seaborn as sns\n",
    "\n",
    "#requests module\n",
    "import requests\n",
    "\n",
    "#beautiful soup module\n",
    "from bs4 import BeautifulSoup as bs\n",
    "\n",
    "#os module\n",
    "import os\n",
    "\n",
    "#json module\n",
    "import json\n",
    "\n",
    "#tweepy module\n",
    "import tweepy"
   ]
  },
  {
   "cell_type": "markdown",
   "metadata": {},
   "source": [
    "## Data Gathering\n",
    "In the cell below, gather **all** three pieces of data for this project and load them in the notebook. **Note:** the methods required to gather each data are different.\n",
    "1. Directly download the WeRateDogs Twitter archive data (twitter_archive_enhanced.csv)"
   ]
  },
  {
   "cell_type": "code",
   "execution_count": 2,
   "metadata": {
    "extensions": {
     "jupyter_dashboards": {
      "version": 1,
      "views": {
       "grid_default": {
        "hidden": true
       },
       "report_default": {
        "hidden": true
       }
      }
     }
    }
   },
   "outputs": [],
   "source": [
    "# load the csv file into a pandas dataframe\n",
    "archive = pd.read_csv('twitter-archive-enhanced.csv')"
   ]
  },
  {
   "cell_type": "markdown",
   "metadata": {},
   "source": [
    "2. Use the Requests library to download the tweet image prediction (image_predictions.tsv)"
   ]
  },
  {
   "cell_type": "code",
   "execution_count": 3,
   "metadata": {},
   "outputs": [],
   "source": [
    "# Make a directory to save the image_predictions file if it doesn't already exist\n",
    "folder_name = 'image_predictions'\n",
    "if not os.path.exists(folder_name):\n",
    "    os.makedirs(folder_name)"
   ]
  },
  {
   "cell_type": "code",
   "execution_count": 4,
   "metadata": {},
   "outputs": [
    {
     "data": {
      "text/plain": [
       "<Response [200]>"
      ]
     },
     "execution_count": 4,
     "metadata": {},
     "output_type": "execute_result"
    }
   ],
   "source": [
    "#Get the image_predictions  file from the url\n",
    "url = 'https://d17h27t6h515a5.cloudfront.net/topher/2017/August/599fd2ad_image-predictions/image-predictions.tsv'\n",
    "response = requests.get(url)\n",
    "response"
   ]
  },
  {
   "cell_type": "code",
   "execution_count": 5,
   "metadata": {},
   "outputs": [],
   "source": [
    "#Access the Content of the url and Write to a File\n",
    "\n",
    "with open(os.path.join(folder_name, url.split('/')[-1]), mode = 'wb') as file:\n",
    "    file.write(response.content)"
   ]
  },
  {
   "cell_type": "code",
   "execution_count": 6,
   "metadata": {},
   "outputs": [
    {
     "data": {
      "text/plain": [
       "['image-predictions.tsv']"
      ]
     },
     "execution_count": 6,
     "metadata": {},
     "output_type": "execute_result"
    }
   ],
   "source": [
    "#get the list of files in the specified directory\n",
    "\n",
    "os.listdir(folder_name)"
   ]
  },
  {
   "cell_type": "code",
   "execution_count": 7,
   "metadata": {},
   "outputs": [],
   "source": [
    "#load the tsv file into a dataframe\n",
    "\n",
    "path = 'C:/Users/rnt 2/Documents/Python Projects/Deux/image_predictions/image-predictions.tsv'\n",
    "predictions = pd.read_csv(path, sep='\\t')"
   ]
  },
  {
   "cell_type": "markdown",
   "metadata": {},
   "source": [
    "3. Use the Tweepy library to query additional data via the Twitter API (tweet_json.txt)"
   ]
  },
  {
   "cell_type": "markdown",
   "metadata": {},
   "source": [
    " I got the json data directly due to the fact that my Twitter developer account was not approved. Below is a commented version of the algorithm code used to query the dataset."
   ]
  },
  {
   "cell_type": "code",
   "execution_count": 8,
   "metadata": {},
   "outputs": [],
   "source": [
    "# import tweepy\n",
    "# from tweepy import OAuthHandler\n",
    "# import json\n",
    "# from timeit import default_timer as timer\n",
    "\n",
    "# Query Twitter API for each tweet in the Twitter archive and save JSON in a text file\n",
    "# These are hidden to comply with Twitter's API terms and conditions\n",
    "# consumer_key = 'HIDDEN'\n",
    "# consumer_secret = 'HIDDEN'\n",
    "# access_token = 'HIDDEN'\n",
    "# access_secret = 'HIDDEN'\n",
    "\n",
    "# auth = OAuthHandler(consumer_key, consumer_secret)\n",
    "# auth.set_access_token(access_token, access_secret)\n",
    "\n",
    "# api = tweepy.API(auth, wait_on_rate_limit=True)\n",
    "\n",
    "# NOTE TO STUDENT WITH MOBILE VERIFICATION ISSUES:\n",
    "# df_1 is a DataFrame with the twitter_archive_enhanced.csv file. You may have to\n",
    "# change line 17 to match the name of your DataFrame with twitter_archive_enhanced.csv\n",
    "# NOTE TO REVIEWER: this student had mobile verification issues so the following\n",
    "# Twitter API code was sent to this student from a Udacity instructor\n",
    "# Tweet IDs for which to gather additional data via Twitter's API\n",
    "# tweet_ids = df_1.tweet_id.values\n",
    "# len(tweet_ids)\n",
    "\n",
    "# Query Twitter's API for JSON data for each tweet ID in the Twitter archive\n",
    "# count = 0\n",
    "# fails_dict = {}\n",
    "# start = timer()\n",
    "# Save each tweet's returned JSON as a new line in a .txt file\n",
    "# with open('tweet_json.txt', 'w') as outfile:\n",
    "    # This loop will likely take 20-30 minutes to run because of Twitter's rate limit\n",
    "    # for tweet_id in tweet_ids:\n",
    "        # count += 1\n",
    "        # print(str(count) + \": \" + str(tweet_id))\n",
    "        # try:\n",
    "            # tweet = api.get_status(tweet_id, tweet_mode='extended')\n",
    "            # print(\"Success\")\n",
    "            # json.dump(tweet._json, outfile)\n",
    "            # outfile.write('\\n')\n",
    "        # except tweepy.TweepError as e:\n",
    "            # print(\"Fail\")\n",
    "            # fails_dict[tweet_id] = e\n",
    "            # pass\n",
    "# end = timer()\n",
    "# print(end - start)\n",
    "# print(fails_dict)"
   ]
  },
  {
   "cell_type": "code",
   "execution_count": 9,
   "metadata": {},
   "outputs": [],
   "source": [
    "#read tweet_json.txt into a DataFrame\n",
    "with open('tweet_json.txt', 'r') as file:\n",
    "    lines = file.readlines()\n",
    "data = [ ]\n",
    "for line in lines:\n",
    "    data.append(json.loads(line))\n",
    "\n",
    "additional = pd.DataFrame(data)"
   ]
  },
  {
   "cell_type": "code",
   "execution_count": 10,
   "metadata": {},
   "outputs": [],
   "source": [
    "# slice dataframe to select only desired columns of interest\n",
    "additional = additional[['id', 'retweet_count', 'favorite_count', 'created_at']]"
   ]
  },
  {
   "cell_type": "markdown",
   "metadata": {
    "extensions": {
     "jupyter_dashboards": {
      "version": 1,
      "views": {
       "grid_default": {
        "col": 4,
        "height": 4,
        "hidden": false,
        "row": 28,
        "width": 4
       },
       "report_default": {
        "hidden": false
       }
      }
     }
    }
   },
   "source": [
    "## Assessing Data\n",
    "In this section, detect and document at least **eight (8) quality issues and two (2) tidiness issue**. You must use **both** visual assessment\n",
    "programmatic assessement to assess the data.\n",
    "\n",
    "**Note:** pay attention to the following key points when you access the data.\n",
    "\n",
    "* You only want original ratings (no retweets) that have images. Though there are 5000+ tweets in the dataset, not all are dog ratings and some are retweets.\n",
    "* Assessing and cleaning the entire dataset completely would require a lot of time, and is not necessary to practice and demonstrate your skills in data wrangling. Therefore, the requirements of this project are only to assess and clean at least 8 quality issues and at least 2 tidiness issues in this dataset.\n",
    "* The fact that the rating numerators are greater than the denominators does not need to be cleaned. This [unique rating system](http://knowyourmeme.com/memes/theyre-good-dogs-brent) is a big part of the popularity of WeRateDogs.\n",
    "* You do not need to gather the tweets beyond August 1st, 2017. You can, but note that you won't be able to gather the image predictions for these tweets since you don't have access to the algorithm used.\n",
    "\n"
   ]
  },
  {
   "cell_type": "markdown",
   "metadata": {},
   "source": [
    "#### Visual Assessments"
   ]
  },
  {
   "cell_type": "code",
   "execution_count": 11,
   "metadata": {},
   "outputs": [
    {
     "data": {
      "text/html": [
       "<div>\n",
       "<style scoped>\n",
       "    .dataframe tbody tr th:only-of-type {\n",
       "        vertical-align: middle;\n",
       "    }\n",
       "\n",
       "    .dataframe tbody tr th {\n",
       "        vertical-align: top;\n",
       "    }\n",
       "\n",
       "    .dataframe thead th {\n",
       "        text-align: right;\n",
       "    }\n",
       "</style>\n",
       "<table border=\"1\" class=\"dataframe\">\n",
       "  <thead>\n",
       "    <tr style=\"text-align: right;\">\n",
       "      <th></th>\n",
       "      <th>tweet_id</th>\n",
       "      <th>in_reply_to_status_id</th>\n",
       "      <th>in_reply_to_user_id</th>\n",
       "      <th>timestamp</th>\n",
       "      <th>source</th>\n",
       "      <th>text</th>\n",
       "      <th>retweeted_status_id</th>\n",
       "      <th>retweeted_status_user_id</th>\n",
       "      <th>retweeted_status_timestamp</th>\n",
       "      <th>expanded_urls</th>\n",
       "      <th>rating_numerator</th>\n",
       "      <th>rating_denominator</th>\n",
       "      <th>name</th>\n",
       "      <th>doggo</th>\n",
       "      <th>floofer</th>\n",
       "      <th>pupper</th>\n",
       "      <th>puppo</th>\n",
       "    </tr>\n",
       "  </thead>\n",
       "  <tbody>\n",
       "    <tr>\n",
       "      <th>0</th>\n",
       "      <td>892420643555336193</td>\n",
       "      <td>NaN</td>\n",
       "      <td>NaN</td>\n",
       "      <td>2017-08-01 16:23:56 +0000</td>\n",
       "      <td>&lt;a href=\"http://twitter.com/download/iphone\" r...</td>\n",
       "      <td>This is Phineas. He's a mystical boy. Only eve...</td>\n",
       "      <td>NaN</td>\n",
       "      <td>NaN</td>\n",
       "      <td>NaN</td>\n",
       "      <td>https://twitter.com/dog_rates/status/892420643...</td>\n",
       "      <td>13</td>\n",
       "      <td>10</td>\n",
       "      <td>Phineas</td>\n",
       "      <td>None</td>\n",
       "      <td>None</td>\n",
       "      <td>None</td>\n",
       "      <td>None</td>\n",
       "    </tr>\n",
       "    <tr>\n",
       "      <th>1</th>\n",
       "      <td>892177421306343426</td>\n",
       "      <td>NaN</td>\n",
       "      <td>NaN</td>\n",
       "      <td>2017-08-01 00:17:27 +0000</td>\n",
       "      <td>&lt;a href=\"http://twitter.com/download/iphone\" r...</td>\n",
       "      <td>This is Tilly. She's just checking pup on you....</td>\n",
       "      <td>NaN</td>\n",
       "      <td>NaN</td>\n",
       "      <td>NaN</td>\n",
       "      <td>https://twitter.com/dog_rates/status/892177421...</td>\n",
       "      <td>13</td>\n",
       "      <td>10</td>\n",
       "      <td>Tilly</td>\n",
       "      <td>None</td>\n",
       "      <td>None</td>\n",
       "      <td>None</td>\n",
       "      <td>None</td>\n",
       "    </tr>\n",
       "    <tr>\n",
       "      <th>2</th>\n",
       "      <td>891815181378084864</td>\n",
       "      <td>NaN</td>\n",
       "      <td>NaN</td>\n",
       "      <td>2017-07-31 00:18:03 +0000</td>\n",
       "      <td>&lt;a href=\"http://twitter.com/download/iphone\" r...</td>\n",
       "      <td>This is Archie. He is a rare Norwegian Pouncin...</td>\n",
       "      <td>NaN</td>\n",
       "      <td>NaN</td>\n",
       "      <td>NaN</td>\n",
       "      <td>https://twitter.com/dog_rates/status/891815181...</td>\n",
       "      <td>12</td>\n",
       "      <td>10</td>\n",
       "      <td>Archie</td>\n",
       "      <td>None</td>\n",
       "      <td>None</td>\n",
       "      <td>None</td>\n",
       "      <td>None</td>\n",
       "    </tr>\n",
       "    <tr>\n",
       "      <th>3</th>\n",
       "      <td>891689557279858688</td>\n",
       "      <td>NaN</td>\n",
       "      <td>NaN</td>\n",
       "      <td>2017-07-30 15:58:51 +0000</td>\n",
       "      <td>&lt;a href=\"http://twitter.com/download/iphone\" r...</td>\n",
       "      <td>This is Darla. She commenced a snooze mid meal...</td>\n",
       "      <td>NaN</td>\n",
       "      <td>NaN</td>\n",
       "      <td>NaN</td>\n",
       "      <td>https://twitter.com/dog_rates/status/891689557...</td>\n",
       "      <td>13</td>\n",
       "      <td>10</td>\n",
       "      <td>Darla</td>\n",
       "      <td>None</td>\n",
       "      <td>None</td>\n",
       "      <td>None</td>\n",
       "      <td>None</td>\n",
       "    </tr>\n",
       "    <tr>\n",
       "      <th>4</th>\n",
       "      <td>891327558926688256</td>\n",
       "      <td>NaN</td>\n",
       "      <td>NaN</td>\n",
       "      <td>2017-07-29 16:00:24 +0000</td>\n",
       "      <td>&lt;a href=\"http://twitter.com/download/iphone\" r...</td>\n",
       "      <td>This is Franklin. He would like you to stop ca...</td>\n",
       "      <td>NaN</td>\n",
       "      <td>NaN</td>\n",
       "      <td>NaN</td>\n",
       "      <td>https://twitter.com/dog_rates/status/891327558...</td>\n",
       "      <td>12</td>\n",
       "      <td>10</td>\n",
       "      <td>Franklin</td>\n",
       "      <td>None</td>\n",
       "      <td>None</td>\n",
       "      <td>None</td>\n",
       "      <td>None</td>\n",
       "    </tr>\n",
       "  </tbody>\n",
       "</table>\n",
       "</div>"
      ],
      "text/plain": [
       "             tweet_id  in_reply_to_status_id  in_reply_to_user_id  \\\n",
       "0  892420643555336193                    NaN                  NaN   \n",
       "1  892177421306343426                    NaN                  NaN   \n",
       "2  891815181378084864                    NaN                  NaN   \n",
       "3  891689557279858688                    NaN                  NaN   \n",
       "4  891327558926688256                    NaN                  NaN   \n",
       "\n",
       "                   timestamp  \\\n",
       "0  2017-08-01 16:23:56 +0000   \n",
       "1  2017-08-01 00:17:27 +0000   \n",
       "2  2017-07-31 00:18:03 +0000   \n",
       "3  2017-07-30 15:58:51 +0000   \n",
       "4  2017-07-29 16:00:24 +0000   \n",
       "\n",
       "                                              source  \\\n",
       "0  <a href=\"http://twitter.com/download/iphone\" r...   \n",
       "1  <a href=\"http://twitter.com/download/iphone\" r...   \n",
       "2  <a href=\"http://twitter.com/download/iphone\" r...   \n",
       "3  <a href=\"http://twitter.com/download/iphone\" r...   \n",
       "4  <a href=\"http://twitter.com/download/iphone\" r...   \n",
       "\n",
       "                                                text  retweeted_status_id  \\\n",
       "0  This is Phineas. He's a mystical boy. Only eve...                  NaN   \n",
       "1  This is Tilly. She's just checking pup on you....                  NaN   \n",
       "2  This is Archie. He is a rare Norwegian Pouncin...                  NaN   \n",
       "3  This is Darla. She commenced a snooze mid meal...                  NaN   \n",
       "4  This is Franklin. He would like you to stop ca...                  NaN   \n",
       "\n",
       "   retweeted_status_user_id retweeted_status_timestamp  \\\n",
       "0                       NaN                        NaN   \n",
       "1                       NaN                        NaN   \n",
       "2                       NaN                        NaN   \n",
       "3                       NaN                        NaN   \n",
       "4                       NaN                        NaN   \n",
       "\n",
       "                                       expanded_urls  rating_numerator  \\\n",
       "0  https://twitter.com/dog_rates/status/892420643...                13   \n",
       "1  https://twitter.com/dog_rates/status/892177421...                13   \n",
       "2  https://twitter.com/dog_rates/status/891815181...                12   \n",
       "3  https://twitter.com/dog_rates/status/891689557...                13   \n",
       "4  https://twitter.com/dog_rates/status/891327558...                12   \n",
       "\n",
       "   rating_denominator      name doggo floofer pupper puppo  \n",
       "0                  10   Phineas  None    None   None  None  \n",
       "1                  10     Tilly  None    None   None  None  \n",
       "2                  10    Archie  None    None   None  None  \n",
       "3                  10     Darla  None    None   None  None  \n",
       "4                  10  Franklin  None    None   None  None  "
      ]
     },
     "execution_count": 11,
     "metadata": {},
     "output_type": "execute_result"
    }
   ],
   "source": [
    "# Assessing the Twitter archive data\n",
    "# Return first 5 rows\n",
    "archive.head(5)"
   ]
  },
  {
   "cell_type": "code",
   "execution_count": 12,
   "metadata": {},
   "outputs": [
    {
     "data": {
      "text/html": [
       "<div>\n",
       "<style scoped>\n",
       "    .dataframe tbody tr th:only-of-type {\n",
       "        vertical-align: middle;\n",
       "    }\n",
       "\n",
       "    .dataframe tbody tr th {\n",
       "        vertical-align: top;\n",
       "    }\n",
       "\n",
       "    .dataframe thead th {\n",
       "        text-align: right;\n",
       "    }\n",
       "</style>\n",
       "<table border=\"1\" class=\"dataframe\">\n",
       "  <thead>\n",
       "    <tr style=\"text-align: right;\">\n",
       "      <th></th>\n",
       "      <th>tweet_id</th>\n",
       "      <th>jpg_url</th>\n",
       "      <th>img_num</th>\n",
       "      <th>p1</th>\n",
       "      <th>p1_conf</th>\n",
       "      <th>p1_dog</th>\n",
       "      <th>p2</th>\n",
       "      <th>p2_conf</th>\n",
       "      <th>p2_dog</th>\n",
       "      <th>p3</th>\n",
       "      <th>p3_conf</th>\n",
       "      <th>p3_dog</th>\n",
       "    </tr>\n",
       "  </thead>\n",
       "  <tbody>\n",
       "    <tr>\n",
       "      <th>0</th>\n",
       "      <td>666020888022790149</td>\n",
       "      <td>https://pbs.twimg.com/media/CT4udn0WwAA0aMy.jpg</td>\n",
       "      <td>1</td>\n",
       "      <td>Welsh_springer_spaniel</td>\n",
       "      <td>0.465074</td>\n",
       "      <td>True</td>\n",
       "      <td>collie</td>\n",
       "      <td>0.156665</td>\n",
       "      <td>True</td>\n",
       "      <td>Shetland_sheepdog</td>\n",
       "      <td>0.061428</td>\n",
       "      <td>True</td>\n",
       "    </tr>\n",
       "    <tr>\n",
       "      <th>1</th>\n",
       "      <td>666029285002620928</td>\n",
       "      <td>https://pbs.twimg.com/media/CT42GRgUYAA5iDo.jpg</td>\n",
       "      <td>1</td>\n",
       "      <td>redbone</td>\n",
       "      <td>0.506826</td>\n",
       "      <td>True</td>\n",
       "      <td>miniature_pinscher</td>\n",
       "      <td>0.074192</td>\n",
       "      <td>True</td>\n",
       "      <td>Rhodesian_ridgeback</td>\n",
       "      <td>0.072010</td>\n",
       "      <td>True</td>\n",
       "    </tr>\n",
       "    <tr>\n",
       "      <th>2</th>\n",
       "      <td>666033412701032449</td>\n",
       "      <td>https://pbs.twimg.com/media/CT4521TWwAEvMyu.jpg</td>\n",
       "      <td>1</td>\n",
       "      <td>German_shepherd</td>\n",
       "      <td>0.596461</td>\n",
       "      <td>True</td>\n",
       "      <td>malinois</td>\n",
       "      <td>0.138584</td>\n",
       "      <td>True</td>\n",
       "      <td>bloodhound</td>\n",
       "      <td>0.116197</td>\n",
       "      <td>True</td>\n",
       "    </tr>\n",
       "    <tr>\n",
       "      <th>3</th>\n",
       "      <td>666044226329800704</td>\n",
       "      <td>https://pbs.twimg.com/media/CT5Dr8HUEAA-lEu.jpg</td>\n",
       "      <td>1</td>\n",
       "      <td>Rhodesian_ridgeback</td>\n",
       "      <td>0.408143</td>\n",
       "      <td>True</td>\n",
       "      <td>redbone</td>\n",
       "      <td>0.360687</td>\n",
       "      <td>True</td>\n",
       "      <td>miniature_pinscher</td>\n",
       "      <td>0.222752</td>\n",
       "      <td>True</td>\n",
       "    </tr>\n",
       "    <tr>\n",
       "      <th>4</th>\n",
       "      <td>666049248165822465</td>\n",
       "      <td>https://pbs.twimg.com/media/CT5IQmsXIAAKY4A.jpg</td>\n",
       "      <td>1</td>\n",
       "      <td>miniature_pinscher</td>\n",
       "      <td>0.560311</td>\n",
       "      <td>True</td>\n",
       "      <td>Rottweiler</td>\n",
       "      <td>0.243682</td>\n",
       "      <td>True</td>\n",
       "      <td>Doberman</td>\n",
       "      <td>0.154629</td>\n",
       "      <td>True</td>\n",
       "    </tr>\n",
       "  </tbody>\n",
       "</table>\n",
       "</div>"
      ],
      "text/plain": [
       "             tweet_id                                          jpg_url  \\\n",
       "0  666020888022790149  https://pbs.twimg.com/media/CT4udn0WwAA0aMy.jpg   \n",
       "1  666029285002620928  https://pbs.twimg.com/media/CT42GRgUYAA5iDo.jpg   \n",
       "2  666033412701032449  https://pbs.twimg.com/media/CT4521TWwAEvMyu.jpg   \n",
       "3  666044226329800704  https://pbs.twimg.com/media/CT5Dr8HUEAA-lEu.jpg   \n",
       "4  666049248165822465  https://pbs.twimg.com/media/CT5IQmsXIAAKY4A.jpg   \n",
       "\n",
       "   img_num                      p1   p1_conf  p1_dog                  p2  \\\n",
       "0        1  Welsh_springer_spaniel  0.465074    True              collie   \n",
       "1        1                 redbone  0.506826    True  miniature_pinscher   \n",
       "2        1         German_shepherd  0.596461    True            malinois   \n",
       "3        1     Rhodesian_ridgeback  0.408143    True             redbone   \n",
       "4        1      miniature_pinscher  0.560311    True          Rottweiler   \n",
       "\n",
       "    p2_conf  p2_dog                   p3   p3_conf  p3_dog  \n",
       "0  0.156665    True    Shetland_sheepdog  0.061428    True  \n",
       "1  0.074192    True  Rhodesian_ridgeback  0.072010    True  \n",
       "2  0.138584    True           bloodhound  0.116197    True  \n",
       "3  0.360687    True   miniature_pinscher  0.222752    True  \n",
       "4  0.243682    True             Doberman  0.154629    True  "
      ]
     },
     "execution_count": 12,
     "metadata": {},
     "output_type": "execute_result"
    }
   ],
   "source": [
    "# Assessing the Image Predictions data\n",
    "# Return first 5 rows\n",
    "predictions.head(5)"
   ]
  },
  {
   "cell_type": "code",
   "execution_count": 13,
   "metadata": {},
   "outputs": [
    {
     "data": {
      "text/html": [
       "<div>\n",
       "<style scoped>\n",
       "    .dataframe tbody tr th:only-of-type {\n",
       "        vertical-align: middle;\n",
       "    }\n",
       "\n",
       "    .dataframe tbody tr th {\n",
       "        vertical-align: top;\n",
       "    }\n",
       "\n",
       "    .dataframe thead th {\n",
       "        text-align: right;\n",
       "    }\n",
       "</style>\n",
       "<table border=\"1\" class=\"dataframe\">\n",
       "  <thead>\n",
       "    <tr style=\"text-align: right;\">\n",
       "      <th></th>\n",
       "      <th>id</th>\n",
       "      <th>retweet_count</th>\n",
       "      <th>favorite_count</th>\n",
       "      <th>created_at</th>\n",
       "    </tr>\n",
       "  </thead>\n",
       "  <tbody>\n",
       "    <tr>\n",
       "      <th>0</th>\n",
       "      <td>892420643555336193</td>\n",
       "      <td>8853</td>\n",
       "      <td>39467</td>\n",
       "      <td>Tue Aug 01 16:23:56 +0000 2017</td>\n",
       "    </tr>\n",
       "    <tr>\n",
       "      <th>1</th>\n",
       "      <td>892177421306343426</td>\n",
       "      <td>6514</td>\n",
       "      <td>33819</td>\n",
       "      <td>Tue Aug 01 00:17:27 +0000 2017</td>\n",
       "    </tr>\n",
       "    <tr>\n",
       "      <th>2</th>\n",
       "      <td>891815181378084864</td>\n",
       "      <td>4328</td>\n",
       "      <td>25461</td>\n",
       "      <td>Mon Jul 31 00:18:03 +0000 2017</td>\n",
       "    </tr>\n",
       "    <tr>\n",
       "      <th>3</th>\n",
       "      <td>891689557279858688</td>\n",
       "      <td>8964</td>\n",
       "      <td>42908</td>\n",
       "      <td>Sun Jul 30 15:58:51 +0000 2017</td>\n",
       "    </tr>\n",
       "    <tr>\n",
       "      <th>4</th>\n",
       "      <td>891327558926688256</td>\n",
       "      <td>9774</td>\n",
       "      <td>41048</td>\n",
       "      <td>Sat Jul 29 16:00:24 +0000 2017</td>\n",
       "    </tr>\n",
       "  </tbody>\n",
       "</table>\n",
       "</div>"
      ],
      "text/plain": [
       "                   id  retweet_count  favorite_count  \\\n",
       "0  892420643555336193           8853           39467   \n",
       "1  892177421306343426           6514           33819   \n",
       "2  891815181378084864           4328           25461   \n",
       "3  891689557279858688           8964           42908   \n",
       "4  891327558926688256           9774           41048   \n",
       "\n",
       "                       created_at  \n",
       "0  Tue Aug 01 16:23:56 +0000 2017  \n",
       "1  Tue Aug 01 00:17:27 +0000 2017  \n",
       "2  Mon Jul 31 00:18:03 +0000 2017  \n",
       "3  Sun Jul 30 15:58:51 +0000 2017  \n",
       "4  Sat Jul 29 16:00:24 +0000 2017  "
      ]
     },
     "execution_count": 13,
     "metadata": {},
     "output_type": "execute_result"
    }
   ],
   "source": [
    "# Assessing the API additional data\n",
    "# Return first 5 rows\n",
    "additional.head(5)"
   ]
  },
  {
   "cell_type": "markdown",
   "metadata": {},
   "source": [
    "#### Progmatical Assessment"
   ]
  },
  {
   "cell_type": "code",
   "execution_count": 14,
   "metadata": {},
   "outputs": [
    {
     "name": "stdout",
     "output_type": "stream",
     "text": [
      "<class 'pandas.core.frame.DataFrame'>\n",
      "RangeIndex: 2356 entries, 0 to 2355\n",
      "Data columns (total 17 columns):\n",
      " #   Column                      Non-Null Count  Dtype  \n",
      "---  ------                      --------------  -----  \n",
      " 0   tweet_id                    2356 non-null   int64  \n",
      " 1   in_reply_to_status_id       78 non-null     float64\n",
      " 2   in_reply_to_user_id         78 non-null     float64\n",
      " 3   timestamp                   2356 non-null   object \n",
      " 4   source                      2356 non-null   object \n",
      " 5   text                        2356 non-null   object \n",
      " 6   retweeted_status_id         181 non-null    float64\n",
      " 7   retweeted_status_user_id    181 non-null    float64\n",
      " 8   retweeted_status_timestamp  181 non-null    object \n",
      " 9   expanded_urls               2297 non-null   object \n",
      " 10  rating_numerator            2356 non-null   int64  \n",
      " 11  rating_denominator          2356 non-null   int64  \n",
      " 12  name                        2356 non-null   object \n",
      " 13  doggo                       2356 non-null   object \n",
      " 14  floofer                     2356 non-null   object \n",
      " 15  pupper                      2356 non-null   object \n",
      " 16  puppo                       2356 non-null   object \n",
      "dtypes: float64(4), int64(3), object(10)\n",
      "memory usage: 313.0+ KB\n"
     ]
    }
   ],
   "source": [
    "archive.info()"
   ]
  },
  {
   "cell_type": "code",
   "execution_count": 15,
   "metadata": {},
   "outputs": [
    {
     "name": "stdout",
     "output_type": "stream",
     "text": [
      "<class 'pandas.core.frame.DataFrame'>\n",
      "RangeIndex: 2075 entries, 0 to 2074\n",
      "Data columns (total 12 columns):\n",
      " #   Column    Non-Null Count  Dtype  \n",
      "---  ------    --------------  -----  \n",
      " 0   tweet_id  2075 non-null   int64  \n",
      " 1   jpg_url   2075 non-null   object \n",
      " 2   img_num   2075 non-null   int64  \n",
      " 3   p1        2075 non-null   object \n",
      " 4   p1_conf   2075 non-null   float64\n",
      " 5   p1_dog    2075 non-null   bool   \n",
      " 6   p2        2075 non-null   object \n",
      " 7   p2_conf   2075 non-null   float64\n",
      " 8   p2_dog    2075 non-null   bool   \n",
      " 9   p3        2075 non-null   object \n",
      " 10  p3_conf   2075 non-null   float64\n",
      " 11  p3_dog    2075 non-null   bool   \n",
      "dtypes: bool(3), float64(3), int64(2), object(4)\n",
      "memory usage: 152.1+ KB\n"
     ]
    }
   ],
   "source": [
    "predictions.info()"
   ]
  },
  {
   "cell_type": "code",
   "execution_count": 16,
   "metadata": {},
   "outputs": [
    {
     "data": {
      "text/html": [
       "<div>\n",
       "<style scoped>\n",
       "    .dataframe tbody tr th:only-of-type {\n",
       "        vertical-align: middle;\n",
       "    }\n",
       "\n",
       "    .dataframe tbody tr th {\n",
       "        vertical-align: top;\n",
       "    }\n",
       "\n",
       "    .dataframe thead th {\n",
       "        text-align: right;\n",
       "    }\n",
       "</style>\n",
       "<table border=\"1\" class=\"dataframe\">\n",
       "  <thead>\n",
       "    <tr style=\"text-align: right;\">\n",
       "      <th></th>\n",
       "      <th>tweet_id</th>\n",
       "      <th>img_num</th>\n",
       "      <th>p1_conf</th>\n",
       "      <th>p2_conf</th>\n",
       "      <th>p3_conf</th>\n",
       "    </tr>\n",
       "  </thead>\n",
       "  <tbody>\n",
       "    <tr>\n",
       "      <th>count</th>\n",
       "      <td>2.075000e+03</td>\n",
       "      <td>2075.000000</td>\n",
       "      <td>2075.000000</td>\n",
       "      <td>2.075000e+03</td>\n",
       "      <td>2.075000e+03</td>\n",
       "    </tr>\n",
       "    <tr>\n",
       "      <th>mean</th>\n",
       "      <td>7.384514e+17</td>\n",
       "      <td>1.203855</td>\n",
       "      <td>0.594548</td>\n",
       "      <td>1.345886e-01</td>\n",
       "      <td>6.032417e-02</td>\n",
       "    </tr>\n",
       "    <tr>\n",
       "      <th>std</th>\n",
       "      <td>6.785203e+16</td>\n",
       "      <td>0.561875</td>\n",
       "      <td>0.271174</td>\n",
       "      <td>1.006657e-01</td>\n",
       "      <td>5.090593e-02</td>\n",
       "    </tr>\n",
       "    <tr>\n",
       "      <th>min</th>\n",
       "      <td>6.660209e+17</td>\n",
       "      <td>1.000000</td>\n",
       "      <td>0.044333</td>\n",
       "      <td>1.011300e-08</td>\n",
       "      <td>1.740170e-10</td>\n",
       "    </tr>\n",
       "    <tr>\n",
       "      <th>25%</th>\n",
       "      <td>6.764835e+17</td>\n",
       "      <td>1.000000</td>\n",
       "      <td>0.364412</td>\n",
       "      <td>5.388625e-02</td>\n",
       "      <td>1.622240e-02</td>\n",
       "    </tr>\n",
       "    <tr>\n",
       "      <th>50%</th>\n",
       "      <td>7.119988e+17</td>\n",
       "      <td>1.000000</td>\n",
       "      <td>0.588230</td>\n",
       "      <td>1.181810e-01</td>\n",
       "      <td>4.944380e-02</td>\n",
       "    </tr>\n",
       "    <tr>\n",
       "      <th>75%</th>\n",
       "      <td>7.932034e+17</td>\n",
       "      <td>1.000000</td>\n",
       "      <td>0.843855</td>\n",
       "      <td>1.955655e-01</td>\n",
       "      <td>9.180755e-02</td>\n",
       "    </tr>\n",
       "    <tr>\n",
       "      <th>max</th>\n",
       "      <td>8.924206e+17</td>\n",
       "      <td>4.000000</td>\n",
       "      <td>1.000000</td>\n",
       "      <td>4.880140e-01</td>\n",
       "      <td>2.734190e-01</td>\n",
       "    </tr>\n",
       "  </tbody>\n",
       "</table>\n",
       "</div>"
      ],
      "text/plain": [
       "           tweet_id      img_num      p1_conf       p2_conf       p3_conf\n",
       "count  2.075000e+03  2075.000000  2075.000000  2.075000e+03  2.075000e+03\n",
       "mean   7.384514e+17     1.203855     0.594548  1.345886e-01  6.032417e-02\n",
       "std    6.785203e+16     0.561875     0.271174  1.006657e-01  5.090593e-02\n",
       "min    6.660209e+17     1.000000     0.044333  1.011300e-08  1.740170e-10\n",
       "25%    6.764835e+17     1.000000     0.364412  5.388625e-02  1.622240e-02\n",
       "50%    7.119988e+17     1.000000     0.588230  1.181810e-01  4.944380e-02\n",
       "75%    7.932034e+17     1.000000     0.843855  1.955655e-01  9.180755e-02\n",
       "max    8.924206e+17     4.000000     1.000000  4.880140e-01  2.734190e-01"
      ]
     },
     "execution_count": 16,
     "metadata": {},
     "output_type": "execute_result"
    }
   ],
   "source": [
    "predictions.describe()"
   ]
  },
  {
   "cell_type": "markdown",
   "metadata": {},
   "source": [
    "The highest probability for the first guess is equal to 1, which is expected."
   ]
  },
  {
   "cell_type": "code",
   "execution_count": 17,
   "metadata": {},
   "outputs": [
    {
     "name": "stdout",
     "output_type": "stream",
     "text": [
      "<class 'pandas.core.frame.DataFrame'>\n",
      "RangeIndex: 2354 entries, 0 to 2353\n",
      "Data columns (total 4 columns):\n",
      " #   Column          Non-Null Count  Dtype \n",
      "---  ------          --------------  ----- \n",
      " 0   id              2354 non-null   int64 \n",
      " 1   retweet_count   2354 non-null   int64 \n",
      " 2   favorite_count  2354 non-null   int64 \n",
      " 3   created_at      2354 non-null   object\n",
      "dtypes: int64(3), object(1)\n",
      "memory usage: 73.7+ KB\n"
     ]
    }
   ],
   "source": [
    "# print information of dataframe\n",
    "additional.info()"
   ]
  },
  {
   "cell_type": "code",
   "execution_count": 18,
   "metadata": {},
   "outputs": [
    {
     "data": {
      "text/plain": [
       "0         1\n",
       "2         1\n",
       "7         1\n",
       "10     2333\n",
       "11        3\n",
       "15        1\n",
       "16        1\n",
       "20        2\n",
       "40        1\n",
       "50        3\n",
       "70        1\n",
       "80        2\n",
       "90        1\n",
       "110       1\n",
       "120       1\n",
       "130       1\n",
       "150       1\n",
       "170       1\n",
       "Name: rating_denominator, dtype: int64"
      ]
     },
     "execution_count": 18,
     "metadata": {},
     "output_type": "execute_result"
    }
   ],
   "source": [
    "#Check for consistency in rating_denominator\n",
    "archive['rating_denominator'].value_counts().sort_index()"
   ]
  },
  {
   "cell_type": "code",
   "execution_count": 19,
   "metadata": {},
   "outputs": [
    {
     "data": {
      "text/plain": [
       "17    tweet_id\n",
       "dtype: object"
      ]
     },
     "execution_count": 19,
     "metadata": {},
     "output_type": "execute_result"
    }
   ],
   "source": [
    "# Checking for duplicated columns by creating a list of every column in every dataset\n",
    "all_columns = pd.Series(list(archive) + list(predictions) + list(additional))\n",
    "\n",
    "# all_columns\n",
    "all_columns[all_columns.duplicated()]"
   ]
  },
  {
   "cell_type": "markdown",
   "metadata": {},
   "source": [
    "The only duplicated column is tweet_id."
   ]
  },
  {
   "cell_type": "code",
   "execution_count": null,
   "metadata": {},
   "outputs": [],
   "source": []
  },
  {
   "cell_type": "markdown",
   "metadata": {},
   "source": [
    "### Quality issues\n",
    "#### *twitter-archive-enhanced.csv*\n",
    "\n",
    "1.Not all tweets are original ratings. Some are retweets and replies\n",
    "\n",
    "2.Timestamp column is not in datatime format\n",
    "\n",
    "3.Tweet_id fields in the three datasets are stored as integers but should be strings\n",
    "\n",
    "4.Source column has unnecesary HTML code\n",
    "\n",
    "5.Expanded_urls contains more than one urls\n",
    "\n",
    "6.Some Dog names are wrong and unavailable in text column\n",
    "\n",
    "7.Some rating_numerators are wrong\n",
    "\n",
    "8.'id' variable name in additional dataset should be changed to 'tweet_id' \n",
    "\n",
    "9.Merge predictions and additional data with twitter_archive_enhanced to create master data\n"
   ]
  },
  {
   "cell_type": "markdown",
   "metadata": {
    "extensions": {
     "jupyter_dashboards": {
      "version": 1,
      "views": {
       "grid_default": {
        "col": 0,
        "height": 7,
        "hidden": false,
        "row": 40,
        "width": 12
       },
       "report_default": {
        "hidden": false
       }
      }
     }
    }
   },
   "source": [
    "### Tidiness issues\n",
    "#### *twitter-archive-enhanced.csv*\n",
    "1.The Dog stages is spread between four columns instead of one.\n",
    "\n",
    "#### *image predictions.tsv*\n",
    "2.Predictions are spread in three columns\n",
    "\n",
    "3.Confidence intervals are spread in three columns.\n",
    "\n",
    "4.Dog tests are spread in three columns."
   ]
  },
  {
   "cell_type": "markdown",
   "metadata": {
    "extensions": {
     "jupyter_dashboards": {
      "version": 1,
      "views": {
       "grid_default": {
        "col": 4,
        "height": 4,
        "hidden": false,
        "row": 32,
        "width": 4
       },
       "report_default": {
        "hidden": false
       }
      }
     }
    }
   },
   "source": [
    "## Cleaning Data\n",
    "In this section, clean **all** of the issues you documented while assessing. \n",
    "\n",
    "**Note:** Make a copy of the original data before cleaning. Cleaning includes merging individual pieces of data according to the rules of [tidy data](https://cran.r-project.org/web/packages/tidyr/vignettes/tidy-data.html). The result should be a high-quality and tidy master pandas DataFrame (or DataFrames, if appropriate)."
   ]
  },
  {
   "cell_type": "code",
   "execution_count": 20,
   "metadata": {},
   "outputs": [],
   "source": [
    "# Make copies of original pieces of data\n",
    "archive_clean = archive.copy()\n",
    "predictions_clean = predictions.copy()\n",
    "additional_clean = additional.copy()"
   ]
  },
  {
   "cell_type": "markdown",
   "metadata": {},
   "source": [
    "### Issue #1: Not all tweets are original ratings. Some are retweets and replies"
   ]
  },
  {
   "cell_type": "markdown",
   "metadata": {},
   "source": [
    "#### Define"
   ]
  },
  {
   "cell_type": "markdown",
   "metadata": {},
   "source": [
    "Remove all observations in the **archive_clean** dataset that have values in the columns **in_reply_to_status_id** or **retweeted_status_id**.\n",
    "\n",
    "Then remove those two columns plus **retweeted_status_user_id**, **retweeted_status_timestamp** and **in_reply_to_user_id** since they are not useful in the analysis."
   ]
  },
  {
   "cell_type": "markdown",
   "metadata": {},
   "source": [
    "#### Code"
   ]
  },
  {
   "cell_type": "code",
   "execution_count": 21,
   "metadata": {},
   "outputs": [],
   "source": [
    "#Filter out observations that are not original ratings\n",
    "archive_clean = archive_clean[(archive_clean.in_reply_to_status_id.isna() == True) & \n",
    "                              (archive_clean.retweeted_status_id.isna() == True)]"
   ]
  },
  {
   "cell_type": "code",
   "execution_count": 22,
   "metadata": {},
   "outputs": [],
   "source": [
    "# drop the unnessary columns that are no more useful for the analysis\n",
    "archive_clean = archive_clean.drop(['in_reply_to_status_id', 'in_reply_to_user_id', 'retweeted_status_id',\n",
    "                              'retweeted_status_user_id', 'retweeted_status_timestamp'], axis = 1)"
   ]
  },
  {
   "cell_type": "markdown",
   "metadata": {},
   "source": [
    "#### Test"
   ]
  },
  {
   "cell_type": "code",
   "execution_count": 23,
   "metadata": {},
   "outputs": [
    {
     "name": "stdout",
     "output_type": "stream",
     "text": [
      "<class 'pandas.core.frame.DataFrame'>\n",
      "Int64Index: 2097 entries, 0 to 2355\n",
      "Data columns (total 12 columns):\n",
      " #   Column              Non-Null Count  Dtype \n",
      "---  ------              --------------  ----- \n",
      " 0   tweet_id            2097 non-null   int64 \n",
      " 1   timestamp           2097 non-null   object\n",
      " 2   source              2097 non-null   object\n",
      " 3   text                2097 non-null   object\n",
      " 4   expanded_urls       2094 non-null   object\n",
      " 5   rating_numerator    2097 non-null   int64 \n",
      " 6   rating_denominator  2097 non-null   int64 \n",
      " 7   name                2097 non-null   object\n",
      " 8   doggo               2097 non-null   object\n",
      " 9   floofer             2097 non-null   object\n",
      " 10  pupper              2097 non-null   object\n",
      " 11  puppo               2097 non-null   object\n",
      "dtypes: int64(3), object(9)\n",
      "memory usage: 213.0+ KB\n"
     ]
    }
   ],
   "source": [
    "archive_clean.info()"
   ]
  },
  {
   "cell_type": "markdown",
   "metadata": {},
   "source": [
    "### Issue #2: Timestamp column is not in datatime format"
   ]
  },
  {
   "cell_type": "markdown",
   "metadata": {
    "collapsed": true,
    "extensions": {
     "jupyter_dashboards": {
      "version": 1,
      "views": {
       "grid_default": {
        "hidden": true
       },
       "report_default": {
        "hidden": true
       }
      }
     }
    }
   },
   "source": [
    "#### Define"
   ]
  },
  {
   "cell_type": "markdown",
   "metadata": {},
   "source": [
    "Change timestamp datatype in archive dataframe from object to datatime type"
   ]
  },
  {
   "cell_type": "markdown",
   "metadata": {},
   "source": [
    "#### Code"
   ]
  },
  {
   "cell_type": "code",
   "execution_count": 24,
   "metadata": {},
   "outputs": [],
   "source": [
    "archive_clean['timestamp'] = pd.to_datetime(archive_clean['timestamp'])"
   ]
  },
  {
   "cell_type": "markdown",
   "metadata": {},
   "source": [
    "#### Test"
   ]
  },
  {
   "cell_type": "code",
   "execution_count": 25,
   "metadata": {},
   "outputs": [
    {
     "data": {
      "text/plain": [
       "tweet_id                            int64\n",
       "timestamp             datetime64[ns, UTC]\n",
       "source                             object\n",
       "text                               object\n",
       "expanded_urls                      object\n",
       "rating_numerator                    int64\n",
       "rating_denominator                  int64\n",
       "name                               object\n",
       "doggo                              object\n",
       "floofer                            object\n",
       "pupper                             object\n",
       "puppo                              object\n",
       "dtype: object"
      ]
     },
     "execution_count": 25,
     "metadata": {},
     "output_type": "execute_result"
    }
   ],
   "source": [
    "archive_clean.dtypes"
   ]
  },
  {
   "cell_type": "markdown",
   "metadata": {},
   "source": [
    "### Issue #3: Tweet_id fields in the three datasets are stored as integers but should be strings"
   ]
  },
  {
   "cell_type": "markdown",
   "metadata": {},
   "source": [
    "#### Define"
   ]
  },
  {
   "cell_type": "markdown",
   "metadata": {},
   "source": [
    "Change the integer datatypes for the tweet_id variable from **int** to **object (string)** in the three datasets"
   ]
  },
  {
   "cell_type": "markdown",
   "metadata": {},
   "source": [
    "#### Code"
   ]
  },
  {
   "cell_type": "code",
   "execution_count": 26,
   "metadata": {},
   "outputs": [],
   "source": [
    "archive_clean['tweet_id'] = archive_clean['tweet_id'].astype(str)\n",
    "predictions_clean['tweet_id'] = predictions_clean['tweet_id'].astype(str)\n",
    "additional_clean['id'] = additional_clean['id'].astype(str)"
   ]
  },
  {
   "cell_type": "markdown",
   "metadata": {},
   "source": [
    "#### Test"
   ]
  },
  {
   "cell_type": "code",
   "execution_count": 27,
   "metadata": {},
   "outputs": [
    {
     "name": "stdout",
     "output_type": "stream",
     "text": [
      "object\n",
      "object\n",
      "object\n"
     ]
    }
   ],
   "source": [
    "print(archive_clean.tweet_id.dtype)\n",
    "print(predictions_clean.tweet_id.dtype)\n",
    "print(additional_clean.id.dtype)"
   ]
  },
  {
   "cell_type": "markdown",
   "metadata": {},
   "source": [
    "### Issue #4: The Dog stages is spread between four columns instead of one."
   ]
  },
  {
   "cell_type": "markdown",
   "metadata": {},
   "source": [
    "#### Define"
   ]
  },
  {
   "cell_type": "markdown",
   "metadata": {},
   "source": [
    "There are variables in the  twitter archive dataset. Therefore will melt the variable **doggo**, **floofer**, **pupper**, **puppo** into a new variable called **dog_stage**. Before melting, will create a new variable to identify those dogs with dog stage **'unknown'**"
   ]
  },
  {
   "cell_type": "markdown",
   "metadata": {},
   "source": [
    "#### Code"
   ]
  },
  {
   "cell_type": "code",
   "execution_count": 28,
   "metadata": {},
   "outputs": [],
   "source": [
    "# Create an extra variable to tag those dogs without a recognized stage (unknown)\n",
    "# This will help cleaning the dataset afterwards\n",
    "def u(row):\n",
    "    if row ['doggo'] == 'None' and row ['floofer'] == 'None' and row ['pupper'] == 'None' and row ['puppo'] == 'None':\n",
    "        val = 'unknown'\n",
    "    else:\n",
    "        val ='None'\n",
    "    return val\n",
    "\n",
    "archive_clean['unknown'] = archive_clean.apply(u, axis=1)"
   ]
  },
  {
   "cell_type": "code",
   "execution_count": 29,
   "metadata": {},
   "outputs": [],
   "source": [
    "# melt the 5 different dog stages into a new column calle 'dog_stage'\n",
    "archive_clean = pd.melt(archive_clean, id_vars =['tweet_id','timestamp','source','text','expanded_urls',\n",
    "                                                 'name', 'rating_numerator','rating_denominator'],\n",
    "                     value_vars = ['doggo', 'floofer', 'pupper', 'puppo', 'unknown'],\n",
    "                     var_name = 'dog_stage', \n",
    "                    value_name = 'value')"
   ]
  },
  {
   "cell_type": "code",
   "execution_count": 30,
   "metadata": {},
   "outputs": [],
   "source": [
    "# clean the duplicated rows created and drop the 'value' variable\n",
    "archive_clean = archive_clean[archive_clean['value']!= 'None']\n",
    "archive_clean = archive_clean.drop('value', axis=1)"
   ]
  },
  {
   "cell_type": "markdown",
   "metadata": {},
   "source": [
    "#### Test"
   ]
  },
  {
   "cell_type": "code",
   "execution_count": 31,
   "metadata": {},
   "outputs": [
    {
     "name": "stdout",
     "output_type": "stream",
     "text": [
      "<class 'pandas.core.frame.DataFrame'>\n",
      "Int64Index: 2108 entries, 9 to 10484\n",
      "Data columns (total 9 columns):\n",
      " #   Column              Non-Null Count  Dtype              \n",
      "---  ------              --------------  -----              \n",
      " 0   tweet_id            2108 non-null   object             \n",
      " 1   timestamp           2108 non-null   datetime64[ns, UTC]\n",
      " 2   source              2108 non-null   object             \n",
      " 3   text                2108 non-null   object             \n",
      " 4   expanded_urls       2105 non-null   object             \n",
      " 5   name                2108 non-null   object             \n",
      " 6   rating_numerator    2108 non-null   int64              \n",
      " 7   rating_denominator  2108 non-null   int64              \n",
      " 8   dog_stage           2108 non-null   object             \n",
      "dtypes: datetime64[ns, UTC](1), int64(2), object(6)\n",
      "memory usage: 164.7+ KB\n"
     ]
    }
   ],
   "source": [
    "archive_clean.info()"
   ]
  },
  {
   "cell_type": "code",
   "execution_count": 32,
   "metadata": {},
   "outputs": [
    {
     "data": {
      "text/plain": [
       "array(['doggo', 'floofer', 'pupper', 'puppo', 'unknown'], dtype=object)"
      ]
     },
     "execution_count": 32,
     "metadata": {},
     "output_type": "execute_result"
    }
   ],
   "source": [
    "archive_clean.dog_stage.unique()"
   ]
  },
  {
   "cell_type": "markdown",
   "metadata": {},
   "source": [
    "Notably, we now have 2,108 observations compared to the previous 2,097 observations. This is because some tweets are about more than one dog and also included more than on dog stage."
   ]
  },
  {
   "cell_type": "markdown",
   "metadata": {},
   "source": [
    "### Issue #5: Predictions are spread in three columns"
   ]
  },
  {
   "cell_type": "markdown",
   "metadata": {},
   "source": [
    "#### Define"
   ]
  },
  {
   "cell_type": "markdown",
   "metadata": {},
   "source": [
    "The three different predictions, the three confidence and the three test whether the prediction is a dog or not, is to be melted into four columns: **prediction_number**, **prediction**, **confidence** and **dog** for data tidyness."
   ]
  },
  {
   "cell_type": "markdown",
   "metadata": {},
   "source": [
    "#### Code"
   ]
  },
  {
   "cell_type": "code",
   "execution_count": 33,
   "metadata": {},
   "outputs": [],
   "source": [
    "# This is the melting process for the three categories of data: prediction, confidence and dog test. \n",
    "\n",
    "# create 'prediction_number' and 'prediction' columns\n",
    "predictions_clean = pd.melt(predictions_clean, id_vars = ['tweet_id', 'jpg_url', 'img_num', 'p1_conf', 'p1_dog',\n",
    "       'p2_conf', 'p2_dog', 'p3_conf', 'p3_dog'],\n",
    "               var_name = 'prediction_number',\n",
    "               value_name = 'prediction')\n",
    "\n",
    "# create 'confidence' column\n",
    "predictions_clean = pd.melt(predictions_clean, id_vars = ['tweet_id', 'jpg_url', 'img_num', 'p1_dog',\n",
    "       'p2_dog', 'p3_dog', 'prediction_number', 'prediction'],\n",
    "               var_name = 'conf',\n",
    "               value_name = 'confidence')\n",
    "\n",
    "# remove newly created duplicated rows\n",
    "predictions_clean = predictions_clean[predictions_clean['prediction_number'] == predictions_clean['conf'].str[:2]]\n",
    "# remove unnecesary column\n",
    "predictions_clean = predictions_clean.drop('conf', axis=1)\n",
    "\n",
    "# create 'dog' column\n",
    "predictions_clean = pd.melt(predictions_clean, id_vars = ['tweet_id', 'jpg_url', 'img_num','prediction_number', 'prediction', 'confidence'],\n",
    "               var_name = 'conf_2',\n",
    "               value_name = 'dog')\n",
    "\n",
    "# remove newly created duplicated rows\n",
    "predictions_clean = predictions_clean[predictions_clean['prediction_number'] == predictions_clean['conf_2'].str[:2]]\n",
    "\n",
    "# remove unnecesary column\n",
    "predictions_clean = predictions_clean.drop('conf_2', axis=1)\n",
    "# remove the prefix 'p' from prediction number to get only 1,2,3\n",
    "predictions_clean['prediction_number'] = predictions_clean['prediction_number'].str[1]\n"
   ]
  },
  {
   "cell_type": "markdown",
   "metadata": {},
   "source": [
    "#### Test"
   ]
  },
  {
   "cell_type": "code",
   "execution_count": 34,
   "metadata": {},
   "outputs": [
    {
     "data": {
      "text/html": [
       "<div>\n",
       "<style scoped>\n",
       "    .dataframe tbody tr th:only-of-type {\n",
       "        vertical-align: middle;\n",
       "    }\n",
       "\n",
       "    .dataframe tbody tr th {\n",
       "        vertical-align: top;\n",
       "    }\n",
       "\n",
       "    .dataframe thead th {\n",
       "        text-align: right;\n",
       "    }\n",
       "</style>\n",
       "<table border=\"1\" class=\"dataframe\">\n",
       "  <thead>\n",
       "    <tr style=\"text-align: right;\">\n",
       "      <th></th>\n",
       "      <th>tweet_id</th>\n",
       "      <th>jpg_url</th>\n",
       "      <th>img_num</th>\n",
       "      <th>prediction_number</th>\n",
       "      <th>prediction</th>\n",
       "      <th>confidence</th>\n",
       "      <th>dog</th>\n",
       "    </tr>\n",
       "  </thead>\n",
       "  <tbody>\n",
       "    <tr>\n",
       "      <th>0</th>\n",
       "      <td>666020888022790149</td>\n",
       "      <td>https://pbs.twimg.com/media/CT4udn0WwAA0aMy.jpg</td>\n",
       "      <td>1</td>\n",
       "      <td>1</td>\n",
       "      <td>Welsh_springer_spaniel</td>\n",
       "      <td>0.465074</td>\n",
       "      <td>True</td>\n",
       "    </tr>\n",
       "    <tr>\n",
       "      <th>8300</th>\n",
       "      <td>666020888022790149</td>\n",
       "      <td>https://pbs.twimg.com/media/CT4udn0WwAA0aMy.jpg</td>\n",
       "      <td>1</td>\n",
       "      <td>2</td>\n",
       "      <td>collie</td>\n",
       "      <td>0.156665</td>\n",
       "      <td>True</td>\n",
       "    </tr>\n",
       "    <tr>\n",
       "      <th>16600</th>\n",
       "      <td>666020888022790149</td>\n",
       "      <td>https://pbs.twimg.com/media/CT4udn0WwAA0aMy.jpg</td>\n",
       "      <td>1</td>\n",
       "      <td>3</td>\n",
       "      <td>Shetland_sheepdog</td>\n",
       "      <td>0.061428</td>\n",
       "      <td>True</td>\n",
       "    </tr>\n",
       "    <tr>\n",
       "      <th>1</th>\n",
       "      <td>666029285002620928</td>\n",
       "      <td>https://pbs.twimg.com/media/CT42GRgUYAA5iDo.jpg</td>\n",
       "      <td>1</td>\n",
       "      <td>1</td>\n",
       "      <td>redbone</td>\n",
       "      <td>0.506826</td>\n",
       "      <td>True</td>\n",
       "    </tr>\n",
       "    <tr>\n",
       "      <th>8301</th>\n",
       "      <td>666029285002620928</td>\n",
       "      <td>https://pbs.twimg.com/media/CT42GRgUYAA5iDo.jpg</td>\n",
       "      <td>1</td>\n",
       "      <td>2</td>\n",
       "      <td>miniature_pinscher</td>\n",
       "      <td>0.074192</td>\n",
       "      <td>True</td>\n",
       "    </tr>\n",
       "    <tr>\n",
       "      <th>16601</th>\n",
       "      <td>666029285002620928</td>\n",
       "      <td>https://pbs.twimg.com/media/CT42GRgUYAA5iDo.jpg</td>\n",
       "      <td>1</td>\n",
       "      <td>3</td>\n",
       "      <td>Rhodesian_ridgeback</td>\n",
       "      <td>0.072010</td>\n",
       "      <td>True</td>\n",
       "    </tr>\n",
       "  </tbody>\n",
       "</table>\n",
       "</div>"
      ],
      "text/plain": [
       "                 tweet_id                                          jpg_url  \\\n",
       "0      666020888022790149  https://pbs.twimg.com/media/CT4udn0WwAA0aMy.jpg   \n",
       "8300   666020888022790149  https://pbs.twimg.com/media/CT4udn0WwAA0aMy.jpg   \n",
       "16600  666020888022790149  https://pbs.twimg.com/media/CT4udn0WwAA0aMy.jpg   \n",
       "1      666029285002620928  https://pbs.twimg.com/media/CT42GRgUYAA5iDo.jpg   \n",
       "8301   666029285002620928  https://pbs.twimg.com/media/CT42GRgUYAA5iDo.jpg   \n",
       "16601  666029285002620928  https://pbs.twimg.com/media/CT42GRgUYAA5iDo.jpg   \n",
       "\n",
       "       img_num prediction_number              prediction  confidence   dog  \n",
       "0            1                 1  Welsh_springer_spaniel    0.465074  True  \n",
       "8300         1                 2                  collie    0.156665  True  \n",
       "16600        1                 3       Shetland_sheepdog    0.061428  True  \n",
       "1            1                 1                 redbone    0.506826  True  \n",
       "8301         1                 2      miniature_pinscher    0.074192  True  \n",
       "16601        1                 3     Rhodesian_ridgeback    0.072010  True  "
      ]
     },
     "execution_count": 34,
     "metadata": {},
     "output_type": "execute_result"
    }
   ],
   "source": [
    "#sort the dataframe by tweet_id and prediction number to show that the melt process worked\n",
    "predictions_clean.sort_values(by = ['tweet_id', 'prediction_number']).head(6)"
   ]
  },
  {
   "cell_type": "markdown",
   "metadata": {},
   "source": [
    "### Issue #6: Source column has unnecesary HTML code"
   ]
  },
  {
   "cell_type": "markdown",
   "metadata": {},
   "source": [
    "#### Define"
   ]
  },
  {
   "cell_type": "markdown",
   "metadata": {},
   "source": [
    "Remove the HTML tag from the source column in the feed dataframe, leaving only the clear value of the source.\n",
    "Use Beautiful Soup because the text is the contents of an HTML tag."
   ]
  },
  {
   "cell_type": "markdown",
   "metadata": {},
   "source": [
    "#### Code"
   ]
  },
  {
   "cell_type": "code",
   "execution_count": 35,
   "metadata": {},
   "outputs": [],
   "source": [
    "# Iterate through each row and extract the source's text\n",
    "\n",
    "source_new = []\n",
    "for line, row in archive_clean.iterrows():\n",
    "    soup = bs(row.source)\n",
    "    x = soup.find('a').contents[0]\n",
    "    source_new.append(x)\n",
    "    \n",
    "archive_clean['source'] = source_new"
   ]
  },
  {
   "cell_type": "markdown",
   "metadata": {},
   "source": [
    "#### Test"
   ]
  },
  {
   "cell_type": "code",
   "execution_count": 36,
   "metadata": {},
   "outputs": [
    {
     "data": {
      "text/plain": [
       "array(['Twitter for iPhone', 'Vine - Make a Scene', 'TweetDeck',\n",
       "       'Twitter Web Client'], dtype=object)"
      ]
     },
     "execution_count": 36,
     "metadata": {},
     "output_type": "execute_result"
    }
   ],
   "source": [
    "#check for the unique observations in the cleaned 'source' variable\n",
    "archive_clean.source.unique()"
   ]
  },
  {
   "cell_type": "markdown",
   "metadata": {},
   "source": [
    "### Issue #7: Expanded_urls contains more than one urls"
   ]
  },
  {
   "cell_type": "markdown",
   "metadata": {},
   "source": [
    "#### Define"
   ]
  },
  {
   "cell_type": "markdown",
   "metadata": {},
   "source": [
    "Split each value(s) and keep only the first URL in the expanded_urls. Then, rename column to expanded_url"
   ]
  },
  {
   "cell_type": "markdown",
   "metadata": {},
   "source": [
    "#### Code"
   ]
  },
  {
   "cell_type": "code",
   "execution_count": 37,
   "metadata": {},
   "outputs": [],
   "source": [
    "#split the values of the column and get the first value\n",
    "archive_clean['expanded_urls'] = archive_clean['expanded_urls'].str.split(',', expand=True)[0]\n",
    "\n",
    "#Rename the column to expanded_url\n",
    "archive_clean = archive_clean.rename(index=str, columns={\"expanded_urls\": \"expanded_url\"})"
   ]
  },
  {
   "cell_type": "markdown",
   "metadata": {},
   "source": [
    "#### Test"
   ]
  },
  {
   "cell_type": "code",
   "execution_count": 38,
   "metadata": {},
   "outputs": [
    {
     "name": "stdout",
     "output_type": "stream",
     "text": [
      "<class 'pandas.core.frame.DataFrame'>\n",
      "Index: 2108 entries, 9 to 10484\n",
      "Data columns (total 9 columns):\n",
      " #   Column              Non-Null Count  Dtype              \n",
      "---  ------              --------------  -----              \n",
      " 0   tweet_id            2108 non-null   object             \n",
      " 1   timestamp           2108 non-null   datetime64[ns, UTC]\n",
      " 2   source              2108 non-null   object             \n",
      " 3   text                2108 non-null   object             \n",
      " 4   expanded_url        2105 non-null   object             \n",
      " 5   name                2108 non-null   object             \n",
      " 6   rating_numerator    2108 non-null   int64              \n",
      " 7   rating_denominator  2108 non-null   int64              \n",
      " 8   dog_stage           2108 non-null   object             \n",
      "dtypes: datetime64[ns, UTC](1), int64(2), object(6)\n",
      "memory usage: 164.7+ KB\n"
     ]
    }
   ],
   "source": [
    "archive_clean.info()"
   ]
  },
  {
   "cell_type": "code",
   "execution_count": 39,
   "metadata": {},
   "outputs": [
    {
     "data": {
      "text/plain": [
       "0"
      ]
     },
     "execution_count": 39,
     "metadata": {},
     "output_type": "execute_result"
    }
   ],
   "source": [
    "archive_clean.expanded_url.str.contains(',').sum()"
   ]
  },
  {
   "cell_type": "code",
   "execution_count": 40,
   "metadata": {},
   "outputs": [
    {
     "data": {
      "text/plain": [
       "unknown    1761\n",
       "pupper      230\n",
       "doggo        83\n",
       "puppo        24\n",
       "floofer      10\n",
       "Name: dog_stage, dtype: int64"
      ]
     },
     "execution_count": 40,
     "metadata": {},
     "output_type": "execute_result"
    }
   ],
   "source": [
    "archive_clean.dog_stage.value_counts()"
   ]
  },
  {
   "cell_type": "markdown",
   "metadata": {},
   "source": [
    "### Issue #8: Some Dog names are wrong and unavailable in text column"
   ]
  },
  {
   "cell_type": "markdown",
   "metadata": {},
   "source": [
    "#### Define"
   ]
  },
  {
   "cell_type": "markdown",
   "metadata": {},
   "source": [
    "Check for wrong dog names (mostly in lower case) and replace with 'Unknown'"
   ]
  },
  {
   "cell_type": "markdown",
   "metadata": {},
   "source": [
    "#### Code"
   ]
  },
  {
   "cell_type": "code",
   "execution_count": 41,
   "metadata": {},
   "outputs": [
    {
     "data": {
      "text/plain": [
       "array(['one', 'his', 'just', 'a', 'actually', 'mad', 'all', 'the', 'such',\n",
       "       'quite', 'not', 'incredibly', 'very', 'my', 'an', 'getting',\n",
       "       'this', 'unacceptable', 'old', 'infuriating', 'by', 'officially',\n",
       "       'life', 'light', 'space'], dtype=object)"
      ]
     },
     "execution_count": 41,
     "metadata": {},
     "output_type": "execute_result"
    }
   ],
   "source": [
    "#check for wrong dog names\n",
    "archive_clean.name[archive_clean.name.str.islower()].unique()"
   ]
  },
  {
   "cell_type": "code",
   "execution_count": 42,
   "metadata": {},
   "outputs": [],
   "source": [
    "#replace the incorrect dog names with 'unknown'\n",
    "wrong = archive_clean.name[archive_clean.name.str.islower()].unique()\n",
    "archive_clean = archive_clean.replace(wrong,'None')"
   ]
  },
  {
   "cell_type": "markdown",
   "metadata": {},
   "source": [
    "#### Test"
   ]
  },
  {
   "cell_type": "code",
   "execution_count": 43,
   "metadata": {},
   "outputs": [
    {
     "data": {
      "text/plain": [
       "array([], dtype=object)"
      ]
     },
     "execution_count": 43,
     "metadata": {},
     "output_type": "execute_result"
    }
   ],
   "source": [
    "archive_clean.name[archive_clean.name.str.islower()].unique()"
   ]
  },
  {
   "cell_type": "code",
   "execution_count": 44,
   "metadata": {},
   "outputs": [
    {
     "data": {
      "text/plain": [
       "array(['Cassie', 'Yogi', 'None', 'Napolean', 'Scout', 'Barney', 'Mimosa',\n",
       "       'Meera', 'Rhino', 'Smiley', 'Miguel', 'Emanuel', 'Pete', 'Astrid',\n",
       "       'Doobert', 'Loki', 'Cupid', 'Pilot', 'Duchess', 'Sundance',\n",
       "       'Sunny', 'Bo', 'Dido', 'Chubbs', 'Rocky', 'Bones', 'Sobe', 'Rizzo',\n",
       "       'Pinot', 'Deacon', 'Sampson', 'Combo', 'Anakin', 'Finley',\n",
       "       'Gerald', 'Wishes', 'Maggie', 'Piper', 'Boomer', 'Divine', 'Lenox',\n",
       "       'Kellogg', 'Kyle', 'Grizzwald', 'Doc', 'Blu', 'Moose', 'Petrick',\n",
       "       'Roscoe', 'Gus', 'Ginger', 'Jed', 'Sierra', 'Rover', 'Jamesy',\n",
       "       'Pickles', 'Clark', 'Ava', 'Gidget', 'Kona', 'Gabe', 'Cooper',\n",
       "       'Craig', 'Ollie', 'Laika', 'Ralphy', 'Sophie', 'Huck', 'Winnie',\n",
       "       'Chelsea', 'Willem', 'Louie', 'Jax', 'Lola', 'Milo', 'Malcolm',\n",
       "       'Zoe', 'Finn', 'Edmund', 'Aqua', 'Baloo', 'Benji', 'Rory',\n",
       "       'Buckley', 'Rooney', 'Rueben', 'Lillie', 'Ashleigh', 'Luther',\n",
       "       'Oliver', 'Derek', 'Clyde', 'Smokey', 'Ozzy', 'Winston',\n",
       "       'Chuckles', 'Finnegus', 'Adele', 'Ambrose', 'Ralphson', 'Scooter',\n",
       "       'Sansa', 'Millie', 'Misty', 'Trevith', 'Lorenzo', 'Grady', 'Phil',\n",
       "       'Wally', 'Herschel', 'Gizmo', 'Lucy', 'Trip', 'Hamrick', 'Lizzie',\n",
       "       'Blakely', 'Curtis', 'Mona', 'Olivia', 'Birf', 'Marty', 'Otis',\n",
       "       'Hubertson', 'Gerbald', 'Sweets', 'Banjo', 'Brandy', 'Larry',\n",
       "       'Patrick', 'Charlie', 'Toffee', 'Ellie', 'Hector', 'Kawhi',\n",
       "       'Rinna', 'Dwight', 'Bella', 'Godzilla', 'Pepper', 'Zuzu', 'Mollie',\n",
       "       'Superpup', 'Rufio', 'Lennon', 'Kaiya', 'Obie', 'Raymond',\n",
       "       'Albert', 'Jeffri', 'Django', 'Eve', 'Fletcher', 'Schnozz', 'Chet',\n",
       "       'Cheryl', 'Norman', 'Scott', 'Jazz', 'Rolf', 'Opal', 'Bubba',\n",
       "       'Stuart', 'Snoopy', 'Sebastian', 'Shikha', 'Pablo', 'Diogi',\n",
       "       'Lily', 'Betty', 'Tonks', 'Reginald', 'Abby', 'Kilo', 'Bayley',\n",
       "       'Phineas', 'Tilly', 'Archie', 'Darla', 'Franklin', 'Zoey', 'Koda',\n",
       "       'Bruno', 'Ted', 'Jim', 'Zeke', 'Ralphus', 'Jeffrey', 'Canela',\n",
       "       'Maya', 'Mingus', 'Waffles', 'Jimbo', 'Maisey', 'Earl', 'Kevin',\n",
       "       'Noah', 'Rusty', 'Stanley', 'Alfy', 'Koko', 'Rey', 'Gary',\n",
       "       'Elliot', 'Louis', 'Jesse', 'Romeo', 'Bailey', 'Duddles', 'Jack',\n",
       "       'Steven', 'Beau', 'Shadow', 'Emmy', 'Aja', 'Penny', 'Dante',\n",
       "       'Nelly', 'Benedict', 'Venti', 'Goose', 'Nugget', 'Cash', 'Monkey',\n",
       "       'Harry', 'Kody', 'Lassie', 'Cody', 'Rumble', 'Clifford', 'Dewey',\n",
       "       'Walter', 'Harold', 'Lili', 'Coco', 'Sammy', 'Meatball', 'Paisley',\n",
       "       'Albus', 'Neptune', 'Belle', 'Quinn', 'Zooey', 'Dave', 'Jersey',\n",
       "       'Hobbes', 'Burt', 'Carl', 'Jordy', 'Milky', 'Trooper', 'Wyatt',\n",
       "       'Rosie', 'Thor', 'Oscar', 'Callie', 'Cermet', 'Marlee', 'Arya',\n",
       "       'Einstein', 'Alice', 'Rumpole', 'Benny', 'Aspen', 'Jarod',\n",
       "       'Wiggles', 'General', 'Sailor', 'Iggy', 'Snoop', 'Leo', 'Riley',\n",
       "       'Noosh', 'Odin', 'Jerry', 'Georgie', 'Rontu', 'Cannon', 'Furzey',\n",
       "       'Daisy', 'Tuck', 'Vixen', 'Jarvis', 'Brady', 'Luna', 'Margo',\n",
       "       'Sadie', 'Hank', 'Tycho', 'Indie', 'George', 'Bentley', 'Max',\n",
       "       'Dawn', 'Maddie', 'Monty', 'Sojourner', 'Odie', 'Arlo', 'Vincent',\n",
       "       'Mookie', 'Eli', 'Ash', 'Tucker', 'Tobi', 'Chester', 'Wilson',\n",
       "       'Sunshine', 'Lipton', 'Bronte', 'Poppy', 'Willow', 'Orion',\n",
       "       'Eevee', 'Kuyu', 'Dutch', 'Reggie', 'Lilly', 'Samson', 'Mia',\n",
       "       'Dexter', 'Alfie', 'Fiona', 'Mutt', 'Bear', 'Beebop', 'Alexander',\n",
       "       'Sailer', 'Brutus', 'Boots', 'Ralphie', 'Pawnd', 'Ike', 'Mo',\n",
       "       'Toby', 'Sweet', 'Nala', 'Crawford', 'Jimison', 'Harlso', 'Luca',\n",
       "       'Flash', 'Howie', 'Jazzy', 'Anna', 'Wafer', 'Tom', 'Florence',\n",
       "       'Autumn', 'Buddy', 'Eugene', 'Ken', 'Strudel', 'Tebow', 'Chloe',\n",
       "       'Timber', 'Binky', 'Dudley', 'Comet', 'Akumi', 'Titan', 'Alf',\n",
       "       'Oshie', 'Sky', 'Atlas', 'Eleanor', 'Layla', 'Baron', 'Tyr',\n",
       "       'Bauer', 'Swagger', 'Brandi', 'Mary', 'Moe', 'Halo', 'Augie',\n",
       "       'Sam', 'Hunter', 'Pavlov', 'Kyro', 'Wallace', 'Ito', 'Seamus',\n",
       "       'Stephan', 'Major', 'Duke', 'Shooter', 'Sonny', 'Marley',\n",
       "       'Severus', 'Ronnie', 'Mauve', 'Chef', 'Peaches', 'Longfellow',\n",
       "       'Mister', 'Iroh', 'Pancake', 'Snicku', 'Ruby', 'Brody', 'Mack',\n",
       "       'Nimbus', 'Maximus', 'Dobby', 'Moreton', 'Juno', 'Maude', 'Newt',\n",
       "       'Nida', 'Robin', 'Monster', 'BeBe', 'Remus', 'Levi', 'Mabel',\n",
       "       'Mosby', 'Bruce', 'Happy', 'Brownie', 'Rizzy', 'Stella', 'Butter',\n",
       "       'Frank', 'Lincoln', 'Logan', 'Dale', 'Arnie', 'Mattie', 'Dallas',\n",
       "       'Hero', 'Frankie', 'Stormy', 'Balto', 'Mairi', 'Loomis', 'Godi',\n",
       "       'Cali', 'Timmy', 'Chipson', 'Oakley', 'Dash', 'Hercules', 'Jay',\n",
       "       'Mya', 'Strider', 'Wesley', 'Solomon', 'O', 'Blue', 'Sprinkles',\n",
       "       'Heinrich', 'Shakespeare', 'Bungalo', 'Chip', 'Grey', 'Roosevelt',\n",
       "       'Davey', 'Dakota', 'Fizz', 'Dixie', 'Al', 'Jackson', 'Carbon',\n",
       "       'Klein', 'DonDon', 'Kirby', 'Lou', 'Chevy', 'Tito', 'Philbert',\n",
       "       'Rupert', 'Rufus', 'Brudge', 'Shadoe', 'Angel', 'Brat', 'Tove',\n",
       "       'Gromit', 'Aubie', 'Kota', 'Leela', 'Glenn', 'Shelby', 'Sephie',\n",
       "       'Bonaparte', 'Rose', 'Theo', 'Rocco', 'Fido', 'Emma', 'Spencer',\n",
       "       'Lilli', 'Boston', 'Brandonald', 'Corey', 'Leonard', 'Beckham',\n",
       "       'Devón', 'Gert', 'Watson', 'Keith', 'Dex', 'Ace', 'Tayzie',\n",
       "       'Grizzie', 'Fred', 'Gilbert', 'Meyer', 'Stewie', 'Calvin', 'Lilah',\n",
       "       'Spanky', 'Jameson', 'Atticus', 'Dietrich', 'Tripp', 'Cora',\n",
       "       'Huxley', 'Keurig', 'Bookstore', 'Linus', 'Shiloh', 'Gustav',\n",
       "       'Arlen', 'Percy', 'Sugar', 'Harvey', 'Blanket', 'Geno', 'Stark',\n",
       "       'Beya', 'Kayla', 'Maxaroni', 'Bell', 'Doug', 'Theodore', 'Chase',\n",
       "       'Nollie', 'Rorie', 'Simba', 'Charles', 'Axel', 'Storkson', 'Remy',\n",
       "       'Chadrick', 'Livvie', 'Terry', 'Hermione', 'Ralpher', 'Aldrick',\n",
       "       'Crystal', 'Ziva', 'Stefan', 'Pupcasso', 'Puff', 'Flurpson',\n",
       "       'Coleman', 'Enchilada', 'Cilantro', 'Karll', 'Sprout', 'Blitz',\n",
       "       'Bloop', 'Colby', 'Kreggory', 'Sarge', 'Ivar', 'Jangle',\n",
       "       'Schnitzel', 'Panda', 'Berkeley', 'Ralphé', 'Charleson', 'Harnold',\n",
       "       'Sid', 'Pippa', 'Carper', 'Bowie', 'Alexanderson', 'Suki',\n",
       "       'Barclay', 'Skittle', 'Ebby', 'Flávio', 'Link', 'Jennifur',\n",
       "       'Bluebert', 'Stephanus', 'Bubbles', 'Zeus', 'Bertson', 'Nico',\n",
       "       'Michelangelope', 'Siba', 'Calbert', 'Travis', 'Thumas', 'Kanu',\n",
       "       'Lance', 'Opie', 'Stubert', 'Kane', 'Olive', 'Staniel', 'Sora',\n",
       "       'Beemo', 'Gunner', 'Lacy', 'Tater', 'Olaf', 'Cecil', 'Vince',\n",
       "       'Karma', 'Billy', 'Walker', 'Rodney', 'Klevin', 'Malikai',\n",
       "       'Bobble', 'River', 'Jebberson', 'Remington', 'Farfle', 'Jiminus',\n",
       "       'Harper', 'Clarkus', 'Cupcake', 'Kathmandu', 'Katie', 'Kara',\n",
       "       'Zara', 'Jimothy', 'Bode', 'Terrenth', 'Reese', 'Chesterson',\n",
       "       'Lucia', 'Bisquick', 'Socks', 'Rambo', 'Rudy', 'Fiji', 'Rilo',\n",
       "       'Bilbo', 'Coopson', 'Yoda', 'Crouton', 'Daniel', 'Kaia', 'Murphy',\n",
       "       'Dotsy', 'Eazy', 'Coops', 'Fillup', 'Miley', 'Charl', 'Reagan',\n",
       "       'Yukon', 'CeCe', 'Cuddles', 'Claude', 'Jessiga', 'Carter', 'Ole',\n",
       "       'Pherb', 'Blipson', 'Reptar', 'Berb', 'Bob', 'Colin', 'Brian',\n",
       "       'Oliviér', 'Kobe', 'Freddery', 'Bodie', 'Dunkin', 'Tupawc',\n",
       "       'Amber', 'Edgar', 'Teddy', 'Kingsley', 'Brockly', 'Richie',\n",
       "       'Molly', 'Vinscent', 'Cedrick', 'Hazel', 'Lolo', 'Eriq', 'Phred',\n",
       "       'Oddie', 'Maxwell', 'Geoff', 'Covach', 'Durg', 'Fynn', 'Ricky',\n",
       "       'Herald', 'Lucky', 'Ferg', 'Clarence', 'Brad', 'Pubert', 'Frönq',\n",
       "       'Derby', 'Ember', 'Marq', 'Kramer', 'Barry', 'Tyrone', 'Gordon',\n",
       "       'Baxter', 'Horace', 'Crimson', 'Hammond', 'Lorelei', 'Brooks',\n",
       "       'Oreo', 'Bruiser', 'Perry', 'Bobby', 'Jeph', 'Obi', 'Tino',\n",
       "       'Kulet', 'Lupe', 'Tiger', 'Jiminy', 'Griffin', 'Lulu', 'Darrel',\n",
       "       'Taco', 'Joey', 'Kreg', 'Todo', 'Tess', 'Ulysses', 'Apollo',\n",
       "       'Carly', 'Asher', 'Glacier', 'Chuck', 'Champ', 'Ozzie', 'Griswold',\n",
       "       'Cheesy', 'Moofasa', 'Goliath', 'Emmie', 'Penelope', 'Willie',\n",
       "       'Mike', 'William', 'Evy', 'Hurley', 'Rubio', 'Chompsky', 'Rascal',\n",
       "       'Linda', 'Tug', 'Tango', 'Grizz', 'Jerome', 'Crumpet', 'Jessifer',\n",
       "       'Izzy', 'Ralph', 'Sandy', 'Humphrey', 'Tassy', 'Juckson', 'Chuq',\n",
       "       'Tyrus', 'Karl', 'Vinnie', 'Kenneth', 'Herm', 'Bert', 'Striker',\n",
       "       'Donny', 'Bernie', 'Buddah', 'Lenny', 'Arnold', 'Laela', 'Tedders',\n",
       "       'Jeb', 'Rodman', 'Jonah', 'Chesney', 'Kenny', 'Henry', 'Bobbay',\n",
       "       'Mitch', 'Acro', 'Aiden', 'Dot', 'Shnuggles', 'Kendall', 'Steve',\n",
       "       'Mac', 'Kenzie', 'Pumpkin', 'Gustaf', 'Ed', 'Leonidas', 'Caryl',\n",
       "       'Taz', 'Darby', 'Jackie', 'Franq', 'Pippin', 'Snickers', 'Ridley',\n",
       "       'Cal', 'Bradley', 'Tuco', 'Patch', 'Mojo', 'Batdog', 'Dylan',\n",
       "       'Mark', 'JD', 'Alejandro', 'Scruffers', 'Pip', 'Julius', 'Tanner',\n",
       "       'Sparky', 'Anthony', 'Holly', 'Jett', 'Amy', 'Sage', 'Andy',\n",
       "       'Mason', 'Trigger', 'Antony', 'Creg', 'Traviss', 'Gin', 'Jeffrie',\n",
       "       'Danny', 'Ester', 'Pluto', 'Bloo', 'Edd', 'Paull', 'Willy', 'Herb',\n",
       "       'Damon', 'Peanut', 'Nigel', 'Butters', 'Sandra', 'Fabio',\n",
       "       'Randall', 'Liam', 'Tommy', 'Ben', 'Raphael', 'Julio', 'Andru',\n",
       "       'Kloey', 'Shawwn', 'Skye', 'Kollin', 'Ronduh', 'Billl', 'Saydee',\n",
       "       'Dug', 'Sully', 'Kirk', 'Ralf', 'Clarq', 'Jaspers', 'Samsom',\n",
       "       'Terrance', 'Harrison', 'Chaz', 'Jeremy', 'Jaycob', 'Lambeau',\n",
       "       'Ruffles', 'Amélie', 'Bobb', 'Banditt', 'Kevon', 'Winifred',\n",
       "       'Hanz', 'Churlie', 'Zeek', 'Timofy', 'Maks', 'Jomathan', 'Kallie',\n",
       "       'Marvin', 'Spark', 'Gòrdón', 'Jo', 'DayZ', 'Jareld', 'Torque',\n",
       "       'Ron', 'Skittles', 'Cleopatricia', 'Erik', 'Stu', 'Tedrick',\n",
       "       'Shaggy', 'Filup', 'Kial', 'Naphaniel', 'Dook', 'Hall', 'Philippe',\n",
       "       'Biden', 'Fwed', 'Genevieve', 'Joshwa', 'Timison', 'Bradlay',\n",
       "       'Pipsy', 'Clybe', 'Keet', 'Carll', 'Jockson', 'Josep', 'Lugan',\n",
       "       'Christoper'], dtype=object)"
      ]
     },
     "execution_count": 44,
     "metadata": {},
     "output_type": "execute_result"
    }
   ],
   "source": [
    "archive_clean.name.unique()"
   ]
  },
  {
   "cell_type": "markdown",
   "metadata": {},
   "source": [
    "### Issue #9: Some rating_numerators are wrong. There is indeed a decimal numerator, so have to change the datatype to float"
   ]
  },
  {
   "cell_type": "markdown",
   "metadata": {},
   "source": [
    "#### Define"
   ]
  },
  {
   "cell_type": "markdown",
   "metadata": {},
   "source": [
    "Change datatype and use regex to extract the correct ratings numerators again."
   ]
  },
  {
   "cell_type": "markdown",
   "metadata": {},
   "source": [
    "#### Code"
   ]
  },
  {
   "cell_type": "code",
   "execution_count": 45,
   "metadata": {},
   "outputs": [],
   "source": [
    "#change the datatype to float\n",
    "archive_clean['rating_numerator'] = archive_clean['rating_numerator'].astype('float')"
   ]
  },
  {
   "cell_type": "code",
   "execution_count": 46,
   "metadata": {},
   "outputs": [],
   "source": [
    "#Extract the rating_numerator again\n",
    "archive_clean['rating_numerator'] = archive_clean['text'].str.extract('(\\d+\\.*\\d*\\/\\d+)', expand=False).str.split('/').str[0]"
   ]
  },
  {
   "cell_type": "markdown",
   "metadata": {},
   "source": [
    "### Test"
   ]
  },
  {
   "cell_type": "code",
   "execution_count": 47,
   "metadata": {},
   "outputs": [
    {
     "name": "stdout",
     "output_type": "stream",
     "text": [
      "object\n"
     ]
    }
   ],
   "source": [
    "#test for datatype change\n",
    "print(archive_clean.rating_numerator.dtype)"
   ]
  },
  {
   "cell_type": "code",
   "execution_count": 48,
   "metadata": {},
   "outputs": [
    {
     "data": {
      "text/html": [
       "<div>\n",
       "<style scoped>\n",
       "    .dataframe tbody tr th:only-of-type {\n",
       "        vertical-align: middle;\n",
       "    }\n",
       "\n",
       "    .dataframe tbody tr th {\n",
       "        vertical-align: top;\n",
       "    }\n",
       "\n",
       "    .dataframe thead th {\n",
       "        text-align: right;\n",
       "    }\n",
       "</style>\n",
       "<table border=\"1\" class=\"dataframe\">\n",
       "  <thead>\n",
       "    <tr style=\"text-align: right;\">\n",
       "      <th></th>\n",
       "      <th>tweet_id</th>\n",
       "      <th>timestamp</th>\n",
       "      <th>source</th>\n",
       "      <th>text</th>\n",
       "      <th>expanded_url</th>\n",
       "      <th>name</th>\n",
       "      <th>rating_numerator</th>\n",
       "      <th>rating_denominator</th>\n",
       "      <th>dog_stage</th>\n",
       "    </tr>\n",
       "  </thead>\n",
       "  <tbody>\n",
       "    <tr>\n",
       "      <th>8429</th>\n",
       "      <td>883482846933004288</td>\n",
       "      <td>2017-07-08 00:28:19+00:00</td>\n",
       "      <td>Twitter for iPhone</td>\n",
       "      <td>This is Bella. She hopes her smile made you sm...</td>\n",
       "      <td>https://twitter.com/dog_rates/status/883482846...</td>\n",
       "      <td>Bella</td>\n",
       "      <td>13.5</td>\n",
       "      <td>10</td>\n",
       "      <td>unknown</td>\n",
       "    </tr>\n",
       "  </tbody>\n",
       "</table>\n",
       "</div>"
      ],
      "text/plain": [
       "                tweet_id                 timestamp              source  \\\n",
       "8429  883482846933004288 2017-07-08 00:28:19+00:00  Twitter for iPhone   \n",
       "\n",
       "                                                   text  \\\n",
       "8429  This is Bella. She hopes her smile made you sm...   \n",
       "\n",
       "                                           expanded_url   name  \\\n",
       "8429  https://twitter.com/dog_rates/status/883482846...  Bella   \n",
       "\n",
       "     rating_numerator  rating_denominator dog_stage  \n",
       "8429             13.5                  10   unknown  "
      ]
     },
     "execution_count": 48,
     "metadata": {},
     "output_type": "execute_result"
    }
   ],
   "source": [
    "#test for ratings_numerator extraction\n",
    "archive_clean[archive_clean.rating_numerator == '13.5']"
   ]
  },
  {
   "cell_type": "code",
   "execution_count": 49,
   "metadata": {},
   "outputs": [
    {
     "data": {
      "text/plain": [
       "34"
      ]
     },
     "execution_count": 49,
     "metadata": {},
     "output_type": "execute_result"
    }
   ],
   "source": [
    "# Check for unique counts\n",
    "archive_clean['rating_numerator'].value_counts().count()"
   ]
  },
  {
   "cell_type": "code",
   "execution_count": 50,
   "metadata": {},
   "outputs": [
    {
     "data": {
      "text/plain": [
       "0          1\n",
       "1          5\n",
       "10       437\n",
       "11       414\n",
       "11.26      1\n",
       "11.27      1\n",
       "12       492\n",
       "121        1\n",
       "13       289\n",
       "13.5       1\n",
       "14        38\n",
       "144        1\n",
       "165        1\n",
       "1776       1\n",
       "2          9\n",
       "204        1\n",
       "24         1\n",
       "3         19\n",
       "4         16\n",
       "420        1\n",
       "44         1\n",
       "45         1\n",
       "5         34\n",
       "50         1\n",
       "6         32\n",
       "60         1\n",
       "7         52\n",
       "8         98\n",
       "80         1\n",
       "84         1\n",
       "88         1\n",
       "9        153\n",
       "9.75       1\n",
       "99         1\n",
       "Name: rating_numerator, dtype: int64"
      ]
     },
     "execution_count": 50,
     "metadata": {},
     "output_type": "execute_result"
    }
   ],
   "source": [
    "archive_clean['rating_numerator'].value_counts().sort_index()"
   ]
  },
  {
   "cell_type": "markdown",
   "metadata": {},
   "source": [
    "### Issue #10: 'id' variable name in additional dataset should be changed to 'tweet_id' "
   ]
  },
  {
   "cell_type": "markdown",
   "metadata": {},
   "source": [
    "### Define"
   ]
  },
  {
   "cell_type": "markdown",
   "metadata": {},
   "source": [
    "Rename 'id' variable name to 'tweet_id' for consistency with the other two datasets"
   ]
  },
  {
   "cell_type": "markdown",
   "metadata": {},
   "source": [
    "### Code"
   ]
  },
  {
   "cell_type": "code",
   "execution_count": 51,
   "metadata": {},
   "outputs": [],
   "source": [
    "additional_clean = additional_clean.rename(columns={'id':'tweet_id'})"
   ]
  },
  {
   "cell_type": "markdown",
   "metadata": {},
   "source": [
    "### Test"
   ]
  },
  {
   "cell_type": "code",
   "execution_count": 52,
   "metadata": {},
   "outputs": [
    {
     "name": "stdout",
     "output_type": "stream",
     "text": [
      "<class 'pandas.core.frame.DataFrame'>\n",
      "RangeIndex: 2354 entries, 0 to 2353\n",
      "Data columns (total 4 columns):\n",
      " #   Column          Non-Null Count  Dtype \n",
      "---  ------          --------------  ----- \n",
      " 0   tweet_id        2354 non-null   object\n",
      " 1   retweet_count   2354 non-null   int64 \n",
      " 2   favorite_count  2354 non-null   int64 \n",
      " 3   created_at      2354 non-null   object\n",
      "dtypes: int64(2), object(2)\n",
      "memory usage: 73.7+ KB\n"
     ]
    }
   ],
   "source": [
    "additional_clean.info()"
   ]
  },
  {
   "cell_type": "markdown",
   "metadata": {},
   "source": [
    "### Issue #11: Merge predictions and additional data with twitter_archive_enhanced to create master data"
   ]
  },
  {
   "cell_type": "markdown",
   "metadata": {},
   "source": [
    "#### Define"
   ]
  },
  {
   "cell_type": "markdown",
   "metadata": {},
   "source": [
    "Merge additional data with archive data"
   ]
  },
  {
   "cell_type": "markdown",
   "metadata": {},
   "source": [
    "#### Code"
   ]
  },
  {
   "cell_type": "code",
   "execution_count": 53,
   "metadata": {},
   "outputs": [],
   "source": [
    "# merge 'additional_data' and 'twitter_archive' dataframes on 'tweet_id' with Left join\n",
    "twitter_archive_master = archive_clean.merge(additional_clean, how = 'left', on = 'tweet_id')"
   ]
  },
  {
   "cell_type": "code",
   "execution_count": 54,
   "metadata": {
    "scrolled": true
   },
   "outputs": [
    {
     "data": {
      "text/html": [
       "<div>\n",
       "<style scoped>\n",
       "    .dataframe tbody tr th:only-of-type {\n",
       "        vertical-align: middle;\n",
       "    }\n",
       "\n",
       "    .dataframe tbody tr th {\n",
       "        vertical-align: top;\n",
       "    }\n",
       "\n",
       "    .dataframe thead th {\n",
       "        text-align: right;\n",
       "    }\n",
       "</style>\n",
       "<table border=\"1\" class=\"dataframe\">\n",
       "  <thead>\n",
       "    <tr style=\"text-align: right;\">\n",
       "      <th></th>\n",
       "      <th>tweet_id</th>\n",
       "      <th>timestamp</th>\n",
       "      <th>source</th>\n",
       "      <th>text</th>\n",
       "      <th>expanded_url</th>\n",
       "      <th>name</th>\n",
       "      <th>rating_numerator</th>\n",
       "      <th>rating_denominator</th>\n",
       "      <th>dog_stage</th>\n",
       "      <th>retweet_count</th>\n",
       "      <th>favorite_count</th>\n",
       "      <th>created_at</th>\n",
       "    </tr>\n",
       "  </thead>\n",
       "  <tbody>\n",
       "    <tr>\n",
       "      <th>0</th>\n",
       "      <td>890240255349198849</td>\n",
       "      <td>2017-07-26 15:59:51+00:00</td>\n",
       "      <td>Twitter for iPhone</td>\n",
       "      <td>This is Cassie. She is a college pup. Studying...</td>\n",
       "      <td>https://twitter.com/dog_rates/status/890240255...</td>\n",
       "      <td>Cassie</td>\n",
       "      <td>14</td>\n",
       "      <td>10</td>\n",
       "      <td>doggo</td>\n",
       "      <td>7711</td>\n",
       "      <td>32467</td>\n",
       "      <td>Wed Jul 26 15:59:51 +0000 2017</td>\n",
       "    </tr>\n",
       "    <tr>\n",
       "      <th>1</th>\n",
       "      <td>884162670584377345</td>\n",
       "      <td>2017-07-09 21:29:42+00:00</td>\n",
       "      <td>Twitter for iPhone</td>\n",
       "      <td>Meet Yogi. He doesn't have any important dog m...</td>\n",
       "      <td>https://twitter.com/dog_rates/status/884162670...</td>\n",
       "      <td>Yogi</td>\n",
       "      <td>12</td>\n",
       "      <td>10</td>\n",
       "      <td>doggo</td>\n",
       "      <td>3128</td>\n",
       "      <td>20771</td>\n",
       "      <td>Sun Jul 09 21:29:42 +0000 2017</td>\n",
       "    </tr>\n",
       "  </tbody>\n",
       "</table>\n",
       "</div>"
      ],
      "text/plain": [
       "             tweet_id                 timestamp              source  \\\n",
       "0  890240255349198849 2017-07-26 15:59:51+00:00  Twitter for iPhone   \n",
       "1  884162670584377345 2017-07-09 21:29:42+00:00  Twitter for iPhone   \n",
       "\n",
       "                                                text  \\\n",
       "0  This is Cassie. She is a college pup. Studying...   \n",
       "1  Meet Yogi. He doesn't have any important dog m...   \n",
       "\n",
       "                                        expanded_url    name rating_numerator  \\\n",
       "0  https://twitter.com/dog_rates/status/890240255...  Cassie               14   \n",
       "1  https://twitter.com/dog_rates/status/884162670...    Yogi               12   \n",
       "\n",
       "   rating_denominator dog_stage  retweet_count  favorite_count  \\\n",
       "0                  10     doggo           7711           32467   \n",
       "1                  10     doggo           3128           20771   \n",
       "\n",
       "                       created_at  \n",
       "0  Wed Jul 26 15:59:51 +0000 2017  \n",
       "1  Sun Jul 09 21:29:42 +0000 2017  "
      ]
     },
     "execution_count": 54,
     "metadata": {},
     "output_type": "execute_result"
    }
   ],
   "source": [
    "twitter_archive_master.head(2)"
   ]
  },
  {
   "cell_type": "code",
   "execution_count": 55,
   "metadata": {},
   "outputs": [],
   "source": [
    "# merge 'predictions data' and 'twitter_archive_master' dataframes on 'tweet_id' with Left join\n",
    "twitter_archive_master = twitter_archive_master.merge(predictions_clean, how = 'left', on = 'tweet_id')"
   ]
  },
  {
   "cell_type": "code",
   "execution_count": 56,
   "metadata": {},
   "outputs": [
    {
     "data": {
      "text/html": [
       "<div>\n",
       "<style scoped>\n",
       "    .dataframe tbody tr th:only-of-type {\n",
       "        vertical-align: middle;\n",
       "    }\n",
       "\n",
       "    .dataframe tbody tr th {\n",
       "        vertical-align: top;\n",
       "    }\n",
       "\n",
       "    .dataframe thead th {\n",
       "        text-align: right;\n",
       "    }\n",
       "</style>\n",
       "<table border=\"1\" class=\"dataframe\">\n",
       "  <thead>\n",
       "    <tr style=\"text-align: right;\">\n",
       "      <th></th>\n",
       "      <th>tweet_id</th>\n",
       "      <th>timestamp</th>\n",
       "      <th>source</th>\n",
       "      <th>text</th>\n",
       "      <th>expanded_url</th>\n",
       "      <th>name</th>\n",
       "      <th>rating_numerator</th>\n",
       "      <th>rating_denominator</th>\n",
       "      <th>dog_stage</th>\n",
       "      <th>retweet_count</th>\n",
       "      <th>favorite_count</th>\n",
       "      <th>created_at</th>\n",
       "      <th>jpg_url</th>\n",
       "      <th>img_num</th>\n",
       "      <th>prediction_number</th>\n",
       "      <th>prediction</th>\n",
       "      <th>confidence</th>\n",
       "      <th>dog</th>\n",
       "    </tr>\n",
       "  </thead>\n",
       "  <tbody>\n",
       "    <tr>\n",
       "      <th>0</th>\n",
       "      <td>890240255349198849</td>\n",
       "      <td>2017-07-26 15:59:51+00:00</td>\n",
       "      <td>Twitter for iPhone</td>\n",
       "      <td>This is Cassie. She is a college pup. Studying...</td>\n",
       "      <td>https://twitter.com/dog_rates/status/890240255...</td>\n",
       "      <td>Cassie</td>\n",
       "      <td>14</td>\n",
       "      <td>10</td>\n",
       "      <td>doggo</td>\n",
       "      <td>7711</td>\n",
       "      <td>32467</td>\n",
       "      <td>Wed Jul 26 15:59:51 +0000 2017</td>\n",
       "      <td>https://pbs.twimg.com/media/DFrEyVuW0AAO3t9.jpg</td>\n",
       "      <td>1.0</td>\n",
       "      <td>1</td>\n",
       "      <td>Pembroke</td>\n",
       "      <td>0.511319</td>\n",
       "      <td>True</td>\n",
       "    </tr>\n",
       "    <tr>\n",
       "      <th>1</th>\n",
       "      <td>890240255349198849</td>\n",
       "      <td>2017-07-26 15:59:51+00:00</td>\n",
       "      <td>Twitter for iPhone</td>\n",
       "      <td>This is Cassie. She is a college pup. Studying...</td>\n",
       "      <td>https://twitter.com/dog_rates/status/890240255...</td>\n",
       "      <td>Cassie</td>\n",
       "      <td>14</td>\n",
       "      <td>10</td>\n",
       "      <td>doggo</td>\n",
       "      <td>7711</td>\n",
       "      <td>32467</td>\n",
       "      <td>Wed Jul 26 15:59:51 +0000 2017</td>\n",
       "      <td>https://pbs.twimg.com/media/DFrEyVuW0AAO3t9.jpg</td>\n",
       "      <td>1.0</td>\n",
       "      <td>2</td>\n",
       "      <td>Cardigan</td>\n",
       "      <td>0.451038</td>\n",
       "      <td>True</td>\n",
       "    </tr>\n",
       "    <tr>\n",
       "      <th>2</th>\n",
       "      <td>890240255349198849</td>\n",
       "      <td>2017-07-26 15:59:51+00:00</td>\n",
       "      <td>Twitter for iPhone</td>\n",
       "      <td>This is Cassie. She is a college pup. Studying...</td>\n",
       "      <td>https://twitter.com/dog_rates/status/890240255...</td>\n",
       "      <td>Cassie</td>\n",
       "      <td>14</td>\n",
       "      <td>10</td>\n",
       "      <td>doggo</td>\n",
       "      <td>7711</td>\n",
       "      <td>32467</td>\n",
       "      <td>Wed Jul 26 15:59:51 +0000 2017</td>\n",
       "      <td>https://pbs.twimg.com/media/DFrEyVuW0AAO3t9.jpg</td>\n",
       "      <td>1.0</td>\n",
       "      <td>3</td>\n",
       "      <td>Chihuahua</td>\n",
       "      <td>0.029248</td>\n",
       "      <td>True</td>\n",
       "    </tr>\n",
       "    <tr>\n",
       "      <th>3</th>\n",
       "      <td>884162670584377345</td>\n",
       "      <td>2017-07-09 21:29:42+00:00</td>\n",
       "      <td>Twitter for iPhone</td>\n",
       "      <td>Meet Yogi. He doesn't have any important dog m...</td>\n",
       "      <td>https://twitter.com/dog_rates/status/884162670...</td>\n",
       "      <td>Yogi</td>\n",
       "      <td>12</td>\n",
       "      <td>10</td>\n",
       "      <td>doggo</td>\n",
       "      <td>3128</td>\n",
       "      <td>20771</td>\n",
       "      <td>Sun Jul 09 21:29:42 +0000 2017</td>\n",
       "      <td>https://pbs.twimg.com/media/DEUtQbzW0AUTv_o.jpg</td>\n",
       "      <td>1.0</td>\n",
       "      <td>1</td>\n",
       "      <td>German_shepherd</td>\n",
       "      <td>0.707046</td>\n",
       "      <td>True</td>\n",
       "    </tr>\n",
       "    <tr>\n",
       "      <th>4</th>\n",
       "      <td>884162670584377345</td>\n",
       "      <td>2017-07-09 21:29:42+00:00</td>\n",
       "      <td>Twitter for iPhone</td>\n",
       "      <td>Meet Yogi. He doesn't have any important dog m...</td>\n",
       "      <td>https://twitter.com/dog_rates/status/884162670...</td>\n",
       "      <td>Yogi</td>\n",
       "      <td>12</td>\n",
       "      <td>10</td>\n",
       "      <td>doggo</td>\n",
       "      <td>3128</td>\n",
       "      <td>20771</td>\n",
       "      <td>Sun Jul 09 21:29:42 +0000 2017</td>\n",
       "      <td>https://pbs.twimg.com/media/DEUtQbzW0AUTv_o.jpg</td>\n",
       "      <td>1.0</td>\n",
       "      <td>2</td>\n",
       "      <td>malinois</td>\n",
       "      <td>0.199396</td>\n",
       "      <td>True</td>\n",
       "    </tr>\n",
       "  </tbody>\n",
       "</table>\n",
       "</div>"
      ],
      "text/plain": [
       "             tweet_id                 timestamp              source  \\\n",
       "0  890240255349198849 2017-07-26 15:59:51+00:00  Twitter for iPhone   \n",
       "1  890240255349198849 2017-07-26 15:59:51+00:00  Twitter for iPhone   \n",
       "2  890240255349198849 2017-07-26 15:59:51+00:00  Twitter for iPhone   \n",
       "3  884162670584377345 2017-07-09 21:29:42+00:00  Twitter for iPhone   \n",
       "4  884162670584377345 2017-07-09 21:29:42+00:00  Twitter for iPhone   \n",
       "\n",
       "                                                text  \\\n",
       "0  This is Cassie. She is a college pup. Studying...   \n",
       "1  This is Cassie. She is a college pup. Studying...   \n",
       "2  This is Cassie. She is a college pup. Studying...   \n",
       "3  Meet Yogi. He doesn't have any important dog m...   \n",
       "4  Meet Yogi. He doesn't have any important dog m...   \n",
       "\n",
       "                                        expanded_url    name rating_numerator  \\\n",
       "0  https://twitter.com/dog_rates/status/890240255...  Cassie               14   \n",
       "1  https://twitter.com/dog_rates/status/890240255...  Cassie               14   \n",
       "2  https://twitter.com/dog_rates/status/890240255...  Cassie               14   \n",
       "3  https://twitter.com/dog_rates/status/884162670...    Yogi               12   \n",
       "4  https://twitter.com/dog_rates/status/884162670...    Yogi               12   \n",
       "\n",
       "   rating_denominator dog_stage  retweet_count  favorite_count  \\\n",
       "0                  10     doggo           7711           32467   \n",
       "1                  10     doggo           7711           32467   \n",
       "2                  10     doggo           7711           32467   \n",
       "3                  10     doggo           3128           20771   \n",
       "4                  10     doggo           3128           20771   \n",
       "\n",
       "                       created_at  \\\n",
       "0  Wed Jul 26 15:59:51 +0000 2017   \n",
       "1  Wed Jul 26 15:59:51 +0000 2017   \n",
       "2  Wed Jul 26 15:59:51 +0000 2017   \n",
       "3  Sun Jul 09 21:29:42 +0000 2017   \n",
       "4  Sun Jul 09 21:29:42 +0000 2017   \n",
       "\n",
       "                                           jpg_url  img_num prediction_number  \\\n",
       "0  https://pbs.twimg.com/media/DFrEyVuW0AAO3t9.jpg      1.0                 1   \n",
       "1  https://pbs.twimg.com/media/DFrEyVuW0AAO3t9.jpg      1.0                 2   \n",
       "2  https://pbs.twimg.com/media/DFrEyVuW0AAO3t9.jpg      1.0                 3   \n",
       "3  https://pbs.twimg.com/media/DEUtQbzW0AUTv_o.jpg      1.0                 1   \n",
       "4  https://pbs.twimg.com/media/DEUtQbzW0AUTv_o.jpg      1.0                 2   \n",
       "\n",
       "        prediction  confidence   dog  \n",
       "0         Pembroke    0.511319  True  \n",
       "1         Cardigan    0.451038  True  \n",
       "2        Chihuahua    0.029248  True  \n",
       "3  German_shepherd    0.707046  True  \n",
       "4         malinois    0.199396  True  "
      ]
     },
     "execution_count": 56,
     "metadata": {},
     "output_type": "execute_result"
    }
   ],
   "source": [
    "twitter_archive_master.head(5)"
   ]
  },
  {
   "cell_type": "code",
   "execution_count": null,
   "metadata": {},
   "outputs": [],
   "source": []
  },
  {
   "cell_type": "markdown",
   "metadata": {},
   "source": [
    "## Storing Data\n",
    "Save gathered, assessed, and cleaned master dataset to a CSV file named \"twitter_archive_master.csv\"."
   ]
  },
  {
   "cell_type": "code",
   "execution_count": 57,
   "metadata": {},
   "outputs": [],
   "source": [
    "# Define a variable for the intended CSV file\n",
    "master_file = 'twitter_archive_master.csv'\n",
    "\n",
    "#Store the master dataset to the CSV file.\n",
    "twitter_archive_master.to_csv(master_file, index=False)"
   ]
  },
  {
   "cell_type": "markdown",
   "metadata": {},
   "source": [
    "## Analyzing and Visualizing Data\n",
    "In this section, analyze and visualize your wrangled data. You must produce at least **three (3) insights and one (1) visualization.**"
   ]
  },
  {
   "cell_type": "markdown",
   "metadata": {},
   "source": [
    "# Most common dog breeds"
   ]
  },
  {
   "cell_type": "code",
   "execution_count": 58,
   "metadata": {},
   "outputs": [
    {
     "data": {
      "image/png": "[encoded data removed]",
      "text/plain": [
       "<Figure size 600x400 with 1 Axes>"
      ]
     },
     "metadata": {
      "needs_background": "light"
     },
     "output_type": "display_data"
    }
   ],
   "source": [
    "# Plot counts of the 10 most common dog breeds\n",
    "top_breeds = (twitter_archive_master.prediction.value_counts()\n",
    "              .head(10)\n",
    "              .to_frame()\n",
    "              .reset_index()\n",
    "              .rename(columns={'index': 'prediction', 'prediction': 'total'}))\n",
    "top_breeds['prediction'] = top_breeds['prediction'].str.title()\n",
    "plt.figure(dpi=100);\n",
    "ax = sns.barplot(x='total', y='prediction', data=top_breeds);\n",
    "ax.set_title('Ten Most Common Dog Breeds in WeRateDogs Tweets');\n",
    "ax.set_ylabel('Dog Breed');\n",
    "ax.set_xlabel('Total');"
   ]
  },
  {
   "cell_type": "markdown",
   "metadata": {},
   "source": [
    "# Most common dog ratings\n"
   ]
  },
  {
   "cell_type": "code",
   "execution_count": 59,
   "metadata": {
    "scrolled": true
   },
   "outputs": [
    {
     "data": {
      "text/plain": [
       "12/10       1394\n",
       "10/10       1273\n",
       "11/10       1200\n",
       "13/10        799\n",
       "9/10         450\n",
       "8/10         288\n",
       "7/10         153\n",
       "14/10        104\n",
       "5/10         100\n",
       "6/10          96\n",
       "3/10          57\n",
       "4/10          45\n",
       "2/10          27\n",
       "1/10          12\n",
       "144/120        3\n",
       "88/80          3\n",
       "11.26/10       3\n",
       "80/80          3\n",
       "7/11           3\n",
       "420/10         3\n",
       "121/110        3\n",
       "44/40          3\n",
       "60/50          3\n",
       "45/50          3\n",
       "1776/10        3\n",
       "99/90          3\n",
       "50/50          3\n",
       "4/20           3\n",
       "204/170        3\n",
       "9/11           3\n",
       "165/150        3\n",
       "9.75/10        3\n",
       "24/7           3\n",
       "84/70          3\n",
       "0/10           3\n",
       "13.5/10        3\n",
       "11.27/10       3\n",
       "1/2            3\n",
       "Name: score_comb, dtype: int64"
      ]
     },
     "execution_count": 59,
     "metadata": {},
     "output_type": "execute_result"
    }
   ],
   "source": [
    "#combine numerator and denominator as one string to get a single rating\n",
    "twitter_archive_master['score_comb'] = twitter_archive_master['rating_numerator'].astype(str) + \"/\" + \\\n",
    "                                  twitter_archive_master['rating_denominator'].astype(str)\n",
    "\n",
    "twitter_archive_master.score_comb.value_counts()"
   ]
  },
  {
   "cell_type": "markdown",
   "metadata": {},
   "source": [
    "# Total tweets per month"
   ]
  },
  {
   "cell_type": "code",
   "execution_count": 60,
   "metadata": {},
   "outputs": [
    {
     "data": {
      "image/png": "[encoded data removed]",
      "text/plain": [
       "<Figure size 600x400 with 1 Axes>"
      ]
     },
     "metadata": {
      "needs_background": "light"
     },
     "output_type": "display_data"
    }
   ],
   "source": [
    "# Prepare tweet_archive for plotting\n",
    "twitter_archive_master['year_month_date'] = twitter_archive_master['timestamp'].dt.year.astype(str) + '-' + \\\n",
    "                                            twitter_archive_master['timestamp'].dt.month.astype(str).str.pad(2, fillchar='0')\n",
    "twitter_archive_master['is_tweet'] = np.where(twitter_archive_master.tweet_id.notnull(), 1, 0)\n",
    "\n",
    "# Get required data from twitter_archive\n",
    "twitter_archive_monthly_tweets = twitter_archive_master.groupby('year_month_date').is_tweet.sum().reset_index()\n",
    "\n",
    "# Plot the data\n",
    "plt.figure(dpi=100);\n",
    "plt.xticks(rotation=45);\n",
    "ax = sns.lineplot(x='year_month_date', y='is_tweet', data=twitter_archive_monthly_tweets);\n",
    "ax.set_title('Total Tweets recorded by WeRateDogs per Month');\n",
    "ax.set_xlabel('Date');\n",
    "ax.set_ylabel('Number of Tweets');"
   ]
  },
  {
   "cell_type": "markdown",
   "metadata": {},
   "source": [
    "### Insights:\n",
    "1.From the plot it's clear that the Labrador Retriever and the Golden Retriever shows up the most often in tweets even compared to the rest of the most common dog breeds.\n",
    "\n",
    "2.The most common score by far is 12/10 followed by 10/10 and 11/10. It is noteworthy to mention that in these most common scores, the numerator doesn't stray too far above the denominator.\n",
    "\n",
    "3.The account was very active within the first two months (November 2015 and December 2015) and continued to experience a decline around 2016 afterwards."
   ]
  },
  {
   "cell_type": "markdown",
   "metadata": {
    "collapsed": true
   },
   "source": [
    "### Visualization"
   ]
  },
  {
   "cell_type": "code",
   "execution_count": null,
   "metadata": {},
   "outputs": [],
   "source": []
  }
 ],
 "metadata": {
  "extensions": {
   "jupyter_dashboards": {
    "activeView": "report_default",
    "version": 1,
    "views": {
     "grid_default": {
      "cellMargin": 10,
      "defaultCellHeight": 20,
      "maxColumns": 12,
      "name": "grid",
      "type": "grid"
     },
     "report_default": {
      "name": "report",
      "type": "report"
     }
    }
   }
  },
  "kernelspec": {
   "display_name": "Python 3 (ipykernel)",
   "language": "python",
   "name": "python3"
  },
  "language_info": {
   "codemirror_mode": {
    "name": "ipython",
    "version": 3
   },
   "file_extension": ".py",
   "mimetype": "text/x-python",
   "name": "python",
   "nbconvert_exporter": "python",
   "pygments_lexer": "ipython3",
   "version": "3.10.4"
  }
 },
 "nbformat": 4,
 "nbformat_minor": 2
}
